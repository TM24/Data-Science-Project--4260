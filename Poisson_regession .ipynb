{
  "nbformat": 4,
  "nbformat_minor": 0,
  "metadata": {
    "colab": {
      "provenance": []
    },
    "kernelspec": {
      "name": "python3",
      "display_name": "Python 3"
    },
    "language_info": {
      "name": "python"
    }
  },
  "cells": [
    {
      "cell_type": "code",
      "execution_count": 1,
      "metadata": {
        "id": "y6SFFyFfCPbd"
      },
      "outputs": [],
      "source": [
        "import numpy as np\n",
        "import pandas as pd\n",
        "import matplotlib.pyplot as plt\n",
        "import statsmodels.api as sm\n",
        "import matplotlib.pyplot as plt\n",
        "import seaborn as sns\n",
        "from sklearn.linear_model import PoissonRegressor\n",
        "from scipy.stats import poisson\n",
        "from sklearn.preprocessing import StandardScaler\n",
        "from sklearn.metrics import mean_squared_error, mean_absolute_error, accuracy_score, confusion_matrix\n",
        "from sklearn.model_selection import KFold\n",
        "import os"
      ]
    },
    {
      "cell_type": "markdown",
      "source": [
        "# CLEANING"
      ],
      "metadata": {
        "id": "BGORtq62VuaG"
      }
    },
    {
      "cell_type": "code",
      "source": [
        "# Function to load and clean data\n",
        "def load_and_clean_data(file_path):\n",
        "    \"\"\"Load a dataset and apply cleaning steps.\n",
        "    Removes STD, season average, and last 5 matched sum\n",
        "    Fills NULL/nan values with 0/zero\n",
        "    and drops rows with more than 20% NULL values we cna change this\n",
        "    I just felt like 20% seemed right\"\"\"\n",
        "    try:\n",
        "        df = pd.read_csv(file_path)\n",
        "        #df = df.drop(df.filter(regex='_std$').columns, axis=1)\n",
        "\n",
        "        # Drop rows where more than 80% of the data is missing\n",
        "        threshold = int(0.20 * len(df.columns))  # Keep rows with at least 80% non-null values\n",
        "        df = df.dropna(thresh=threshold)\n",
        "\n",
        "        # Fill remaining missing values with zero\n",
        "        df = df.fillna(0)\n",
        "        return df\n",
        "    except FileNotFoundError as e:\n",
        "        print(f\"Error loading {file_path}: {e}\")\n",
        "        return None"
      ],
      "metadata": {
        "id": "qkh_ZFlQy2hM"
      },
      "execution_count": null,
      "outputs": []
    },
    {
      "cell_type": "code",
      "source": [
        "def to_csv(df, file_path):\n",
        "    \"\"\"Save a DataFrame to a CSV file.\"\"\"\n",
        "    try:\n",
        "        df.to_csv(file_path, index=False)\n",
        "        print(f\"Saved {file_path} ({df.shape[0]} rows, {df.shape[1]} columns)\")\n",
        "    except Exception as e:\n",
        "        print(f\"Error saving {file_path}: {e}\")"
      ],
      "metadata": {
        "id": "BHw74GLG1JLv"
      },
      "execution_count": null,
      "outputs": []
    },
    {
      "cell_type": "code",
      "source": [
        "# Define dataset paths\n",
        "data_paths = {\n",
        "    \"train_home_team\": \"/content/Data/train_home_team_statistics_df.csv\",\n",
        "    \"train_home_player\": \"/content/Data/train_home_player_statistics_df.csv\" ,\n",
        "    \"train_away_team\": \"/content/Data/train_away_team_statistics_df.csv\",\n",
        "    \"train_away_player\": \"/content/Data/train_away_player_statistics_df.csv\",\n",
        "\n",
        "    \"test_home_team\": \"/content/Data/test_home_team_statistics_df.csv\",\n",
        "    \"test_home_player\": \"/content/Data/test_home_player_statistics_df.csv\",\n",
        "    \"test_away_team\": \"/content/Data/test_away_team_statistics_df.csv\",\n",
        "    \"test_away_player\": \"/content/Data/test_away_player_statistics_df.csv\"\n",
        "}"
      ],
      "metadata": {
        "id": "dZQSA3rWzQ9m"
      },
      "execution_count": 2,
      "outputs": []
    },
    {
      "cell_type": "code",
      "source": [
        "train_home_team = load_and_clean_data(data_paths[\"train_home_team\"])\n",
        "#train_home_player = load_and_clean_data(data_paths[\"train_home_player\"])\n",
        "train_away_team = load_and_clean_data(data_paths[\"train_away_team\"])\n",
        "#train_away_player = load_and_clean_data(data_paths[\"train_away_player\"])\n",
        "\n",
        "test_home_team = load_and_clean_data(data_paths[\"test_home_team\"])\n",
        "#test_home_player = load_and_clean_data(data_paths[\"test_home_player\"])\n",
        "test_away_team = load_and_clean_data(data_paths[\"test_away_team\"])\n",
        "#test_away_player = load_and_clean_data(data_paths[\"test_away_player\"])\n",
        "\n",
        "print(\"Data cleaning completed.\")"
      ],
      "metadata": {
        "colab": {
          "base_uri": "https://localhost:8080/"
        },
        "id": "wRzcLw3AzXka",
        "outputId": "ab26e8eb-6d0e-4906-8808-8e9ad5372363"
      },
      "execution_count": null,
      "outputs": [
        {
          "output_type": "stream",
          "name": "stdout",
          "text": [
            "Data cleaning completed.\n"
          ]
        }
      ]
    },
    {
      "cell_type": "code",
      "source": [
        "output_path = \"/content/Data/CleanData\"\n",
        "os.makedirs(output_path, exist_ok=True)\n",
        "\n",
        "to_csv(train_home_team, os.path.join(output_path, \"train_home_team.csv\"))\n",
        "#to_csv(train_home_player, os.path.join(output_path, \"train_home_player.csv\"))\n",
        "to_csv(train_away_team, os.path.join(output_path, \"train_away_team.csv\"))\n",
        "#to_csv(train_away_player, os.path.join(output_path, \"train_away_player.csv\"))\n",
        "\n",
        "to_csv(test_home_team, os.path.join(output_path, \"test_home_team.csv\"))\n",
        "#to_csv(test_home_player, os.path.join(output_path, \"test_home_player.csv\"))\n",
        "to_csv(test_away_team, os.path.join(output_path, \"test_away_team.csv\"))\n",
        "#to_csv(test_away_player, os.path.join(output_path, \"test_away_player.csv\"))\n",
        "\n",
        "print(\"Done\")"
      ],
      "metadata": {
        "colab": {
          "base_uri": "https://localhost:8080/"
        },
        "id": "9m_zOrPt1ti9",
        "outputId": "e838b61a-8cd3-47ba-e03c-87d2dfa103c2"
      },
      "execution_count": null,
      "outputs": [
        {
          "output_type": "stream",
          "name": "stdout",
          "text": [
            "Saved /content/Data/CleanData/train_home_team.csv (12303 rows, 143 columns)\n",
            "Saved /content/Data/CleanData/train_away_team.csv (12303 rows, 143 columns)\n",
            "Saved /content/Data/CleanData/test_home_team.csv (25368 rows, 141 columns)\n",
            "Saved /content/Data/CleanData/test_away_team.csv (25368 rows, 141 columns)\n",
            "Done\n"
          ]
        }
      ]
    },
    {
      "cell_type": "markdown",
      "source": [
        "START HERE"
      ],
      "metadata": {
        "id": "DZbGt0_qnWnI"
      }
    },
    {
      "cell_type": "code",
      "source": [
        "#Team data train and test\n",
        "train_home_team = pd.read_csv(\"/content/Data/train_home_team.csv\")\n",
        "train_away_team = pd.read_csv(\"/content/Data/train_away_team.csv\")\n",
        "\n",
        "test_home_team = pd.read_csv(\"/content/Data/test_home_team.csv\")\n",
        "test_away_team = pd.read_csv(\"/content/Data/test_away_team.csv\")\n"
      ],
      "metadata": {
        "id": "9Az9VCNo3Uxt"
      },
      "execution_count": 3,
      "outputs": []
    },
    {
      "cell_type": "code",
      "source": [
        "def rename_columns(columns):\n",
        "    \"\"\"\n",
        "    Renames columns by removing 'TEAM_' prefix and '_season' substring.\n",
        "\n",
        "    Args:\n",
        "        columns (list): List of column names to be renamed.\n",
        "\n",
        "    Returns:\n",
        "        list: List of renamed column names.\n",
        "    \"\"\"\n",
        "    renamed_columns = []\n",
        "    for col in columns:\n",
        "        # Remove 'TEAM_' prefix\n",
        "        col = col.replace('TEAM_', '')\n",
        "        # Remove '_season' substring\n",
        "        col = col.replace('_season', '')\n",
        "        # Change average to avg\n",
        "        col = col.replace('average', 'avg')\n",
        "        renamed_columns.append(col)\n",
        "    return renamed_columns"
      ],
      "metadata": {
        "id": "0ilUubUX372c"
      },
      "execution_count": 4,
      "outputs": []
    },
    {
      "cell_type": "code",
      "source": [
        "# rename columns\n",
        "train_home_team.columns = rename_columns(train_home_team.columns)\n",
        "train_away_team.columns = rename_columns(train_away_team.columns)\n",
        "test_home_team.columns = rename_columns(test_home_team.columns)\n",
        "test_away_team.columns = rename_columns(test_away_team.columns)"
      ],
      "metadata": {
        "id": "fGDuv7M85icO"
      },
      "execution_count": 5,
      "outputs": []
    },
    {
      "cell_type": "code",
      "source": [
        "train_home_team_original = train_home_team.copy()\n",
        "train_away_team_original = train_away_team.copy()\n",
        "test_home_team_original = test_home_team.copy()\n",
        "test_away_team_original = test_away_team.copy()"
      ],
      "metadata": {
        "id": "wvDMx-82m1UI"
      },
      "execution_count": 6,
      "outputs": []
    },
    {
      "cell_type": "code",
      "source": [
        "test_away_team_original.head()"
      ],
      "metadata": {
        "colab": {
          "base_uri": "https://localhost:8080/",
          "height": 256
        },
        "id": "65amAl5XOali",
        "outputId": "d146852a-db00-4813-e623-f59486941cc6"
      },
      "execution_count": 28,
      "outputs": [
        {
          "output_type": "execute_result",
          "data": {
            "text/plain": [
              "      ID  SHOTS_TOTAL_sum  SHOTS_INSIDEBOX_sum  SHOTS_OFF_TARGET_sum  \\\n",
              "0  12303              6.0                  6.0                   5.0   \n",
              "1  12304              4.0                  4.0                   4.0   \n",
              "2  12305              1.0                  1.0                   2.0   \n",
              "3  12306              6.0                  9.0                   6.0   \n",
              "4  12307              5.0                  5.0                   2.0   \n",
              "\n",
              "   SHOTS_ON_TARGET_sum  SHOTS_OUTSIDEBOX_sum  PASSES_sum  \\\n",
              "0                  7.0                   7.0         4.0   \n",
              "1                  4.0                   3.0         8.0   \n",
              "2                  2.0                   2.0         6.0   \n",
              "3                  9.0                   4.0         4.0   \n",
              "4                  4.0                   4.0         1.0   \n",
              "\n",
              "   SUCCESSFUL_PASSES_sum  SAVES_sum  CORNERS_sum  ...  \\\n",
              "0                    3.0        6.0          3.0  ...   \n",
              "1                    8.0        4.0          7.0  ...   \n",
              "2                    5.0        4.0          2.0  ...   \n",
              "3                    4.0        1.0         10.0  ...   \n",
              "4                    2.0        3.0          8.0  ...   \n",
              "\n",
              "   YELLOWCARDS_5_last_match_std  REDCARDS_5_last_match_std  \\\n",
              "0                           6.0                        0.0   \n",
              "1                           0.0                        0.0   \n",
              "2                          10.0                        0.0   \n",
              "3                           1.0                        5.0   \n",
              "4                           3.0                        0.0   \n",
              "\n",
              "   OFFSIDES_5_last_match_std  ATTACKS_5_last_match_std  \\\n",
              "0                        1.0                       4.0   \n",
              "1                        3.0                       6.0   \n",
              "2                        0.0                       2.0   \n",
              "3                        4.0                       5.0   \n",
              "4                        6.0                       5.0   \n",
              "\n",
              "   PENALTIES_5_last_match_std  SUBSTITUTIONS_5_last_match_std  \\\n",
              "0                         0.0                             8.0   \n",
              "1                         8.0                             5.0   \n",
              "2                         0.0                             4.0   \n",
              "3                        10.0                             9.0   \n",
              "4                         0.0                             4.0   \n",
              "\n",
              "   BALL_SAFE_5_last_match_std  DANGEROUS_ATTACKS_5_last_match_std  \\\n",
              "0                         7.0                                 2.0   \n",
              "1                         1.0                                 1.0   \n",
              "2                         2.0                                 3.0   \n",
              "3                         6.0                                 9.0   \n",
              "4                         3.0                                10.0   \n",
              "\n",
              "   INJURIES_5_last_match_std  GOALS_5_last_match_std  \n",
              "0                        7.0                     0.0  \n",
              "1                        7.0                     9.0  \n",
              "2                        0.0                     9.0  \n",
              "3                        7.0                     3.0  \n",
              "4                        3.0                     1.0  \n",
              "\n",
              "[5 rows x 141 columns]"
            ],
            "text/html": [
              "\n",
              "  <div id=\"df-55d4c099-8688-4422-bb31-cc176cda9e73\" class=\"colab-df-container\">\n",
              "    <div>\n",
              "<style scoped>\n",
              "    .dataframe tbody tr th:only-of-type {\n",
              "        vertical-align: middle;\n",
              "    }\n",
              "\n",
              "    .dataframe tbody tr th {\n",
              "        vertical-align: top;\n",
              "    }\n",
              "\n",
              "    .dataframe thead th {\n",
              "        text-align: right;\n",
              "    }\n",
              "</style>\n",
              "<table border=\"1\" class=\"dataframe\">\n",
              "  <thead>\n",
              "    <tr style=\"text-align: right;\">\n",
              "      <th></th>\n",
              "      <th>ID</th>\n",
              "      <th>SHOTS_TOTAL_sum</th>\n",
              "      <th>SHOTS_INSIDEBOX_sum</th>\n",
              "      <th>SHOTS_OFF_TARGET_sum</th>\n",
              "      <th>SHOTS_ON_TARGET_sum</th>\n",
              "      <th>SHOTS_OUTSIDEBOX_sum</th>\n",
              "      <th>PASSES_sum</th>\n",
              "      <th>SUCCESSFUL_PASSES_sum</th>\n",
              "      <th>SAVES_sum</th>\n",
              "      <th>CORNERS_sum</th>\n",
              "      <th>...</th>\n",
              "      <th>YELLOWCARDS_5_last_match_std</th>\n",
              "      <th>REDCARDS_5_last_match_std</th>\n",
              "      <th>OFFSIDES_5_last_match_std</th>\n",
              "      <th>ATTACKS_5_last_match_std</th>\n",
              "      <th>PENALTIES_5_last_match_std</th>\n",
              "      <th>SUBSTITUTIONS_5_last_match_std</th>\n",
              "      <th>BALL_SAFE_5_last_match_std</th>\n",
              "      <th>DANGEROUS_ATTACKS_5_last_match_std</th>\n",
              "      <th>INJURIES_5_last_match_std</th>\n",
              "      <th>GOALS_5_last_match_std</th>\n",
              "    </tr>\n",
              "  </thead>\n",
              "  <tbody>\n",
              "    <tr>\n",
              "      <th>0</th>\n",
              "      <td>12303</td>\n",
              "      <td>6.0</td>\n",
              "      <td>6.0</td>\n",
              "      <td>5.0</td>\n",
              "      <td>7.0</td>\n",
              "      <td>7.0</td>\n",
              "      <td>4.0</td>\n",
              "      <td>3.0</td>\n",
              "      <td>6.0</td>\n",
              "      <td>3.0</td>\n",
              "      <td>...</td>\n",
              "      <td>6.0</td>\n",
              "      <td>0.0</td>\n",
              "      <td>1.0</td>\n",
              "      <td>4.0</td>\n",
              "      <td>0.0</td>\n",
              "      <td>8.0</td>\n",
              "      <td>7.0</td>\n",
              "      <td>2.0</td>\n",
              "      <td>7.0</td>\n",
              "      <td>0.0</td>\n",
              "    </tr>\n",
              "    <tr>\n",
              "      <th>1</th>\n",
              "      <td>12304</td>\n",
              "      <td>4.0</td>\n",
              "      <td>4.0</td>\n",
              "      <td>4.0</td>\n",
              "      <td>4.0</td>\n",
              "      <td>3.0</td>\n",
              "      <td>8.0</td>\n",
              "      <td>8.0</td>\n",
              "      <td>4.0</td>\n",
              "      <td>7.0</td>\n",
              "      <td>...</td>\n",
              "      <td>0.0</td>\n",
              "      <td>0.0</td>\n",
              "      <td>3.0</td>\n",
              "      <td>6.0</td>\n",
              "      <td>8.0</td>\n",
              "      <td>5.0</td>\n",
              "      <td>1.0</td>\n",
              "      <td>1.0</td>\n",
              "      <td>7.0</td>\n",
              "      <td>9.0</td>\n",
              "    </tr>\n",
              "    <tr>\n",
              "      <th>2</th>\n",
              "      <td>12305</td>\n",
              "      <td>1.0</td>\n",
              "      <td>1.0</td>\n",
              "      <td>2.0</td>\n",
              "      <td>2.0</td>\n",
              "      <td>2.0</td>\n",
              "      <td>6.0</td>\n",
              "      <td>5.0</td>\n",
              "      <td>4.0</td>\n",
              "      <td>2.0</td>\n",
              "      <td>...</td>\n",
              "      <td>10.0</td>\n",
              "      <td>0.0</td>\n",
              "      <td>0.0</td>\n",
              "      <td>2.0</td>\n",
              "      <td>0.0</td>\n",
              "      <td>4.0</td>\n",
              "      <td>2.0</td>\n",
              "      <td>3.0</td>\n",
              "      <td>0.0</td>\n",
              "      <td>9.0</td>\n",
              "    </tr>\n",
              "    <tr>\n",
              "      <th>3</th>\n",
              "      <td>12306</td>\n",
              "      <td>6.0</td>\n",
              "      <td>9.0</td>\n",
              "      <td>6.0</td>\n",
              "      <td>9.0</td>\n",
              "      <td>4.0</td>\n",
              "      <td>4.0</td>\n",
              "      <td>4.0</td>\n",
              "      <td>1.0</td>\n",
              "      <td>10.0</td>\n",
              "      <td>...</td>\n",
              "      <td>1.0</td>\n",
              "      <td>5.0</td>\n",
              "      <td>4.0</td>\n",
              "      <td>5.0</td>\n",
              "      <td>10.0</td>\n",
              "      <td>9.0</td>\n",
              "      <td>6.0</td>\n",
              "      <td>9.0</td>\n",
              "      <td>7.0</td>\n",
              "      <td>3.0</td>\n",
              "    </tr>\n",
              "    <tr>\n",
              "      <th>4</th>\n",
              "      <td>12307</td>\n",
              "      <td>5.0</td>\n",
              "      <td>5.0</td>\n",
              "      <td>2.0</td>\n",
              "      <td>4.0</td>\n",
              "      <td>4.0</td>\n",
              "      <td>1.0</td>\n",
              "      <td>2.0</td>\n",
              "      <td>3.0</td>\n",
              "      <td>8.0</td>\n",
              "      <td>...</td>\n",
              "      <td>3.0</td>\n",
              "      <td>0.0</td>\n",
              "      <td>6.0</td>\n",
              "      <td>5.0</td>\n",
              "      <td>0.0</td>\n",
              "      <td>4.0</td>\n",
              "      <td>3.0</td>\n",
              "      <td>10.0</td>\n",
              "      <td>3.0</td>\n",
              "      <td>1.0</td>\n",
              "    </tr>\n",
              "  </tbody>\n",
              "</table>\n",
              "<p>5 rows × 141 columns</p>\n",
              "</div>\n",
              "    <div class=\"colab-df-buttons\">\n",
              "\n",
              "  <div class=\"colab-df-container\">\n",
              "    <button class=\"colab-df-convert\" onclick=\"convertToInteractive('df-55d4c099-8688-4422-bb31-cc176cda9e73')\"\n",
              "            title=\"Convert this dataframe to an interactive table.\"\n",
              "            style=\"display:none;\">\n",
              "\n",
              "  <svg xmlns=\"http://www.w3.org/2000/svg\" height=\"24px\" viewBox=\"0 -960 960 960\">\n",
              "    <path d=\"M120-120v-720h720v720H120Zm60-500h600v-160H180v160Zm220 220h160v-160H400v160Zm0 220h160v-160H400v160ZM180-400h160v-160H180v160Zm440 0h160v-160H620v160ZM180-180h160v-160H180v160Zm440 0h160v-160H620v160Z\"/>\n",
              "  </svg>\n",
              "    </button>\n",
              "\n",
              "  <style>\n",
              "    .colab-df-container {\n",
              "      display:flex;\n",
              "      gap: 12px;\n",
              "    }\n",
              "\n",
              "    .colab-df-convert {\n",
              "      background-color: #E8F0FE;\n",
              "      border: none;\n",
              "      border-radius: 50%;\n",
              "      cursor: pointer;\n",
              "      display: none;\n",
              "      fill: #1967D2;\n",
              "      height: 32px;\n",
              "      padding: 0 0 0 0;\n",
              "      width: 32px;\n",
              "    }\n",
              "\n",
              "    .colab-df-convert:hover {\n",
              "      background-color: #E2EBFA;\n",
              "      box-shadow: 0px 1px 2px rgba(60, 64, 67, 0.3), 0px 1px 3px 1px rgba(60, 64, 67, 0.15);\n",
              "      fill: #174EA6;\n",
              "    }\n",
              "\n",
              "    .colab-df-buttons div {\n",
              "      margin-bottom: 4px;\n",
              "    }\n",
              "\n",
              "    [theme=dark] .colab-df-convert {\n",
              "      background-color: #3B4455;\n",
              "      fill: #D2E3FC;\n",
              "    }\n",
              "\n",
              "    [theme=dark] .colab-df-convert:hover {\n",
              "      background-color: #434B5C;\n",
              "      box-shadow: 0px 1px 3px 1px rgba(0, 0, 0, 0.15);\n",
              "      filter: drop-shadow(0px 1px 2px rgba(0, 0, 0, 0.3));\n",
              "      fill: #FFFFFF;\n",
              "    }\n",
              "  </style>\n",
              "\n",
              "    <script>\n",
              "      const buttonEl =\n",
              "        document.querySelector('#df-55d4c099-8688-4422-bb31-cc176cda9e73 button.colab-df-convert');\n",
              "      buttonEl.style.display =\n",
              "        google.colab.kernel.accessAllowed ? 'block' : 'none';\n",
              "\n",
              "      async function convertToInteractive(key) {\n",
              "        const element = document.querySelector('#df-55d4c099-8688-4422-bb31-cc176cda9e73');\n",
              "        const dataTable =\n",
              "          await google.colab.kernel.invokeFunction('convertToInteractive',\n",
              "                                                    [key], {});\n",
              "        if (!dataTable) return;\n",
              "\n",
              "        const docLinkHtml = 'Like what you see? Visit the ' +\n",
              "          '<a target=\"_blank\" href=https://colab.research.google.com/notebooks/data_table.ipynb>data table notebook</a>'\n",
              "          + ' to learn more about interactive tables.';\n",
              "        element.innerHTML = '';\n",
              "        dataTable['output_type'] = 'display_data';\n",
              "        await google.colab.output.renderOutput(dataTable, element);\n",
              "        const docLink = document.createElement('div');\n",
              "        docLink.innerHTML = docLinkHtml;\n",
              "        element.appendChild(docLink);\n",
              "      }\n",
              "    </script>\n",
              "  </div>\n",
              "\n",
              "\n",
              "<div id=\"df-5a131a7f-fd75-4102-87e1-ebd690b0d8f3\">\n",
              "  <button class=\"colab-df-quickchart\" onclick=\"quickchart('df-5a131a7f-fd75-4102-87e1-ebd690b0d8f3')\"\n",
              "            title=\"Suggest charts\"\n",
              "            style=\"display:none;\">\n",
              "\n",
              "<svg xmlns=\"http://www.w3.org/2000/svg\" height=\"24px\"viewBox=\"0 0 24 24\"\n",
              "     width=\"24px\">\n",
              "    <g>\n",
              "        <path d=\"M19 3H5c-1.1 0-2 .9-2 2v14c0 1.1.9 2 2 2h14c1.1 0 2-.9 2-2V5c0-1.1-.9-2-2-2zM9 17H7v-7h2v7zm4 0h-2V7h2v10zm4 0h-2v-4h2v4z\"/>\n",
              "    </g>\n",
              "</svg>\n",
              "  </button>\n",
              "\n",
              "<style>\n",
              "  .colab-df-quickchart {\n",
              "      --bg-color: #E8F0FE;\n",
              "      --fill-color: #1967D2;\n",
              "      --hover-bg-color: #E2EBFA;\n",
              "      --hover-fill-color: #174EA6;\n",
              "      --disabled-fill-color: #AAA;\n",
              "      --disabled-bg-color: #DDD;\n",
              "  }\n",
              "\n",
              "  [theme=dark] .colab-df-quickchart {\n",
              "      --bg-color: #3B4455;\n",
              "      --fill-color: #D2E3FC;\n",
              "      --hover-bg-color: #434B5C;\n",
              "      --hover-fill-color: #FFFFFF;\n",
              "      --disabled-bg-color: #3B4455;\n",
              "      --disabled-fill-color: #666;\n",
              "  }\n",
              "\n",
              "  .colab-df-quickchart {\n",
              "    background-color: var(--bg-color);\n",
              "    border: none;\n",
              "    border-radius: 50%;\n",
              "    cursor: pointer;\n",
              "    display: none;\n",
              "    fill: var(--fill-color);\n",
              "    height: 32px;\n",
              "    padding: 0;\n",
              "    width: 32px;\n",
              "  }\n",
              "\n",
              "  .colab-df-quickchart:hover {\n",
              "    background-color: var(--hover-bg-color);\n",
              "    box-shadow: 0 1px 2px rgba(60, 64, 67, 0.3), 0 1px 3px 1px rgba(60, 64, 67, 0.15);\n",
              "    fill: var(--button-hover-fill-color);\n",
              "  }\n",
              "\n",
              "  .colab-df-quickchart-complete:disabled,\n",
              "  .colab-df-quickchart-complete:disabled:hover {\n",
              "    background-color: var(--disabled-bg-color);\n",
              "    fill: var(--disabled-fill-color);\n",
              "    box-shadow: none;\n",
              "  }\n",
              "\n",
              "  .colab-df-spinner {\n",
              "    border: 2px solid var(--fill-color);\n",
              "    border-color: transparent;\n",
              "    border-bottom-color: var(--fill-color);\n",
              "    animation:\n",
              "      spin 1s steps(1) infinite;\n",
              "  }\n",
              "\n",
              "  @keyframes spin {\n",
              "    0% {\n",
              "      border-color: transparent;\n",
              "      border-bottom-color: var(--fill-color);\n",
              "      border-left-color: var(--fill-color);\n",
              "    }\n",
              "    20% {\n",
              "      border-color: transparent;\n",
              "      border-left-color: var(--fill-color);\n",
              "      border-top-color: var(--fill-color);\n",
              "    }\n",
              "    30% {\n",
              "      border-color: transparent;\n",
              "      border-left-color: var(--fill-color);\n",
              "      border-top-color: var(--fill-color);\n",
              "      border-right-color: var(--fill-color);\n",
              "    }\n",
              "    40% {\n",
              "      border-color: transparent;\n",
              "      border-right-color: var(--fill-color);\n",
              "      border-top-color: var(--fill-color);\n",
              "    }\n",
              "    60% {\n",
              "      border-color: transparent;\n",
              "      border-right-color: var(--fill-color);\n",
              "    }\n",
              "    80% {\n",
              "      border-color: transparent;\n",
              "      border-right-color: var(--fill-color);\n",
              "      border-bottom-color: var(--fill-color);\n",
              "    }\n",
              "    90% {\n",
              "      border-color: transparent;\n",
              "      border-bottom-color: var(--fill-color);\n",
              "    }\n",
              "  }\n",
              "</style>\n",
              "\n",
              "  <script>\n",
              "    async function quickchart(key) {\n",
              "      const quickchartButtonEl =\n",
              "        document.querySelector('#' + key + ' button');\n",
              "      quickchartButtonEl.disabled = true;  // To prevent multiple clicks.\n",
              "      quickchartButtonEl.classList.add('colab-df-spinner');\n",
              "      try {\n",
              "        const charts = await google.colab.kernel.invokeFunction(\n",
              "            'suggestCharts', [key], {});\n",
              "      } catch (error) {\n",
              "        console.error('Error during call to suggestCharts:', error);\n",
              "      }\n",
              "      quickchartButtonEl.classList.remove('colab-df-spinner');\n",
              "      quickchartButtonEl.classList.add('colab-df-quickchart-complete');\n",
              "    }\n",
              "    (() => {\n",
              "      let quickchartButtonEl =\n",
              "        document.querySelector('#df-5a131a7f-fd75-4102-87e1-ebd690b0d8f3 button');\n",
              "      quickchartButtonEl.style.display =\n",
              "        google.colab.kernel.accessAllowed ? 'block' : 'none';\n",
              "    })();\n",
              "  </script>\n",
              "</div>\n",
              "\n",
              "    </div>\n",
              "  </div>\n"
            ],
            "application/vnd.google.colaboratory.intrinsic+json": {
              "type": "dataframe",
              "variable_name": "test_away_team_original"
            }
          },
          "metadata": {},
          "execution_count": 28
        }
      ]
    },
    {
      "cell_type": "markdown",
      "source": [
        "# TESTING\n",
        "\n"
      ],
      "metadata": {
        "id": "ruJBPUHHVqMH"
      }
    },
    {
      "cell_type": "markdown",
      "source": [
        "Test1"
      ],
      "metadata": {
        "id": "pqCrEBloLUg7"
      }
    },
    {
      "cell_type": "code",
      "source": [
        "def train_test1():\n",
        "  features = [\n",
        "    \"SHOTS_ON_TARGET_avg\", \"ATTACKS_avg\", \"DANGEROUS_ATTACKS_avg\",\n",
        "    \"BALL_POSSESSION_avg\", \"CORNERS_avg\", \"FOULS_avg\"\n",
        "    ]\n",
        "  # Prepare training data\n",
        "  X_train_home = train_home_team_original[features]\n",
        "  X_train_away = train_away_team_original[features]\n",
        "  y_train_home = train_home_team_original[\"GOALS_avg\"]\n",
        "  y_train_away = train_away_team_original[\"GOALS_avg\"]\n",
        "\n",
        "  # Add constant for Poisson regression\n",
        "  X_train_home = sm.add_constant(X_train_home)\n",
        "  X_train_away = sm.add_constant(X_train_away)\n",
        "\n",
        "  # Train Poisson regression models\n",
        "  poisson_home = sm.GLM(y_train_home, X_train_home, family=sm.families.Poisson()).fit()\n",
        "  poisson_away = sm.GLM(y_train_away, X_train_away, family=sm.families.Poisson()).fit()\n",
        "\n",
        "  return poisson_home, poisson_away\n"
      ],
      "metadata": {
        "id": "TauoixarSj_M"
      },
      "execution_count": 7,
      "outputs": []
    },
    {
      "cell_type": "code",
      "source": [
        "def predict_test1(poisson_home, poisson_away):\n",
        "    features = [\n",
        "        \"SHOTS_ON_TARGET_avg\", \"ATTACKS_avg\", \"DANGEROUS_ATTACKS_avg\",\n",
        "        \"BALL_POSSESSION_avg\", \"CORNERS_avg\", \"FOULS_avg\"\n",
        "    ]\n",
        "\n",
        "    X_test_home = sm.add_constant(test_home_team_original[features])\n",
        "    X_test_away = sm.add_constant(test_away_team_original[features])\n",
        "\n",
        "    # Predict expected goals\n",
        "    pred_home = poisson_home.predict(X_test_home)\n",
        "    pred_away = poisson_away.predict(X_test_away)\n",
        "\n",
        "    return pred_home, pred_away"
      ],
      "metadata": {
        "id": "WQ-nlfnoTXWL"
      },
      "execution_count": 8,
      "outputs": []
    },
    {
      "cell_type": "markdown",
      "source": [
        "Test 2\n"
      ],
      "metadata": {
        "id": "u_nF-8CAv57i"
      }
    },
    {
      "cell_type": "code",
      "source": [
        "def train_test2():\n",
        "    df_train_team = train_home_team_original.merge(train_away_team_original, on=\"ID\", suffixes=(\"_home\", \"_away\"))\n",
        "\n",
        "    # Drop non-numeric columns\n",
        "    df_train_team = df_train_team.drop(columns=[\"NAME_home\", \"NAME_away\", \"LEAGUE_home\", \"LEAGUE_away\"], errors=\"ignore\")\n",
        "\n",
        "    # Define features and target\n",
        "    features = [col for col in df_train_team.columns if col not in [\"ID\", \"GOALS_avg_home\", \"GOALS_avg_away\"]]\n",
        "    X_train = df_train_team[features]\n",
        "    y_train_home = df_train_team[\"GOALS_avg_home\"]\n",
        "    y_train_away = df_train_team[\"GOALS_avg_away\"]\n",
        "\n",
        "    scaler = StandardScaler()\n",
        "    X_train_scaled = scaler.fit_transform(X_train)\n",
        "\n",
        "    # Train models\n",
        "    poisson_home = PoissonRegressor(alpha=0, max_iter=1000).fit(X_train_scaled, y_train_home)\n",
        "    poisson_away = PoissonRegressor(alpha=0, max_iter=1000).fit(X_train_scaled, y_train_away)\n",
        "\n",
        "    return (poisson_home, poisson_away, scaler, features)"
      ],
      "metadata": {
        "id": "XwZaNYCsTf8v"
      },
      "execution_count": 9,
      "outputs": []
    },
    {
      "cell_type": "code",
      "source": [
        "def predict_test2(model_tuple):\n",
        "    poisson_home, poisson_away, scaler, features = model_tuple\n",
        "\n",
        "    # Merge test datasets\n",
        "    df_test = test_home_team_original.merge(test_away_team_original, on=\"ID\", suffixes=(\"_home\", \"_away\"))\n",
        "\n",
        "    # Drop non-numeric columns\n",
        "    df_test = df_test.drop(columns=[\"NAME_home\", \"NAME_away\", \"LEAGUE_home\", \"LEAGUE_away\"], errors=\"ignore\")\n",
        "\n",
        "    # Select features\n",
        "    X_test = df_test[features]\n",
        "    X_test_scaled = scaler.transform(X_test)  # Scale test data\n",
        "\n",
        "    # Predict Expected Goals\n",
        "    pred_home = poisson_home.predict(X_test_scaled)\n",
        "    pred_away = poisson_away.predict(X_test_scaled)\n",
        "\n",
        "    return pred_home, pred_away"
      ],
      "metadata": {
        "id": "VDOp5gjoTk-W"
      },
      "execution_count": 10,
      "outputs": []
    },
    {
      "cell_type": "markdown",
      "source": [
        "Test 3\n"
      ],
      "metadata": {
        "id": "hF9_KBPk_1CO"
      }
    },
    {
      "cell_type": "code",
      "source": [
        "def train_test3():\n",
        "    # Merge home and away data for training\n",
        "    train_data = pd.merge(train_home_team_original, train_away_team_original, on='ID', suffixes=('_home', '_away'))\n",
        "\n",
        "    # Features (excluding GOALS_avg to avoid data leakage)\n",
        "    home_features = [\n",
        "        'SHOTS_ON_TARGET_avg_home',\n",
        "        'ATTACKS_avg_home',\n",
        "        'DANGEROUS_ATTACKS_avg_home',\n",
        "        'BALL_POSSESSION_avg_home',\n",
        "        'CORNERS_avg_home',\n",
        "        'FOULS_avg_home'\n",
        "    ]\n",
        "\n",
        "    away_features = [\n",
        "        'SHOTS_ON_TARGET_avg_away',\n",
        "        'ATTACKS_avg_away',\n",
        "        'DANGEROUS_ATTACKS_avg_away',\n",
        "        'BALL_POSSESSION_avg_away',\n",
        "        'CORNERS_avg_away',\n",
        "        'FOULS_avg_away'\n",
        "    ]\n",
        "\n",
        "    # Prepare training data\n",
        "    X_train_home = train_data[home_features]\n",
        "    X_train_away = train_data[away_features]\n",
        "    y_train_home = train_data['GOALS_sum_home']\n",
        "    y_train_away = train_data['GOALS_sum_away']\n",
        "\n",
        "    # Add intercept for Poisson regression\n",
        "    X_train_home = sm.add_constant(X_train_home)\n",
        "    X_train_away = sm.add_constant(X_train_away)\n",
        "\n",
        "    # Train models\n",
        "    poisson_home = sm.GLM(y_train_home, X_train_home, family=sm.families.Poisson()).fit()\n",
        "    poisson_away = sm.GLM(y_train_away, X_train_away, family=sm.families.Poisson()).fit()\n",
        "\n",
        "    return (poisson_home, poisson_away, home_features, away_features)"
      ],
      "metadata": {
        "id": "X0BNRdOwYgcO"
      },
      "execution_count": 11,
      "outputs": []
    },
    {
      "cell_type": "code",
      "source": [
        "def predict_test3(model_tuple):\n",
        "    poisson_home, poisson_away, home_features, away_features = model_tuple\n",
        "\n",
        "    # Merge test data\n",
        "    test_data = pd.merge(test_home_team_original, test_away_team_original, on='ID', suffixes=('_home', '_away'))\n",
        "\n",
        "    # Prepare test data\n",
        "    X_test_home = sm.add_constant(test_data[home_features])\n",
        "    X_test_away = sm.add_constant(test_data[away_features])\n",
        "\n",
        "    # Predict goals\n",
        "    pred_home = poisson_home.predict(X_test_home)\n",
        "    pred_away = poisson_away.predict(X_test_away)\n",
        "\n",
        "    return pred_home, pred_away"
      ],
      "metadata": {
        "id": "sPEE0PD9lWM4"
      },
      "execution_count": 12,
      "outputs": []
    },
    {
      "cell_type": "markdown",
      "source": [
        "# COMPARING"
      ],
      "metadata": {
        "id": "EWBr1I3SRnpc"
      }
    },
    {
      "cell_type": "code",
      "source": [
        "def evaluate_model(model_name, true_home_goals, pred_home_goals, true_away_goals, pred_away_goals,\n",
        "                  true_outcomes=None, pred_outcomes=None):\n",
        "    \"\"\"\n",
        "    Comprehensive evaluation of a soccer prediction model.\n",
        "    \"\"\"\n",
        "    results = {}\n",
        "    results['model_name'] = model_name\n",
        "\n",
        "    # Goal prediction metrics\n",
        "    results['rmse_home'] = np.sqrt(mean_squared_error(true_home_goals, pred_home_goals))\n",
        "    results['rmse_away'] = np.sqrt(mean_squared_error(true_away_goals, pred_away_goals))\n",
        "    results['rmse_combined'] = np.sqrt(mean_squared_error(\n",
        "        np.concatenate([true_home_goals, true_away_goals]),\n",
        "        np.concatenate([pred_home_goals, pred_away_goals])\n",
        "    ))\n",
        "\n",
        "    results['mae_home'] = mean_absolute_error(true_home_goals, pred_home_goals)\n",
        "    results['mae_away'] = mean_absolute_error(true_away_goals, pred_away_goals)\n",
        "    results['mae_combined'] = mean_absolute_error(\n",
        "        np.concatenate([true_home_goals, true_away_goals]),\n",
        "        np.concatenate([pred_home_goals, pred_away_goals])\n",
        "    )\n",
        "\n",
        "    # Calculate match outcome from goals if not provided\n",
        "    if true_outcomes is None and pred_outcomes is None:\n",
        "        true_outcomes = np.where(true_home_goals > true_away_goals, 'Home Win',\n",
        "                        np.where(true_home_goals < true_away_goals, 'Away Win', 'Draw'))\n",
        "        pred_outcomes = np.where(pred_home_goals > pred_away_goals, 'Home Win',\n",
        "                        np.where(pred_home_goals < pred_away_goals, 'Away Win', 'Draw'))\n",
        "\n",
        "    # Match outcome prediction metrics\n",
        "    if true_outcomes is not None and pred_outcomes is not None:\n",
        "        results['outcome_accuracy'] = accuracy_score(true_outcomes, pred_outcomes)\n",
        "        results['confusion_matrix'] = confusion_matrix(true_outcomes, pred_outcomes,\n",
        "                                                     labels=['Home Win', 'Draw', 'Away Win'])\n",
        "\n",
        "    # Poisson log-likelihood (better for evaluating Poisson models)\n",
        "    # Higher values are better\n",
        "    results['poisson_loglik_home'] = np.mean([poisson.logpmf(int(round(t)), p)\n",
        "                                           for t, p in zip(true_home_goals, pred_home_goals)])\n",
        "    results['poisson_loglik_away'] = np.mean([poisson.logpmf(int(round(t)), p)\n",
        "                                           for t, p in zip(true_away_goals, pred_away_goals)])\n",
        "\n",
        "    # Calculate calibration (ratio of predicted to actual goals)\n",
        "    results['calibration_home'] = pred_home_goals.mean() / true_home_goals.mean()\n",
        "    results['calibration_away'] = pred_away_goals.mean() / true_away_goals.mean()\n",
        "\n",
        "    return results"
      ],
      "metadata": {
        "id": "aT3RmFiIRnen"
      },
      "execution_count": 13,
      "outputs": []
    },
    {
      "cell_type": "code",
      "source": [
        "def cross_validate_model(train_func, predict_func, X_train, y_train_home, y_train_away,\n",
        "                         n_splits=5, random_state=42):\n",
        "    \"\"\"\n",
        "    Perform cross-validation for Poisson model evaluation.\n",
        "    \"\"\"\n",
        "    kf = KFold(n_splits=n_splits, shuffle=True, random_state=random_state)\n",
        "    cv_results = []\n",
        "\n",
        "    for train_idx, val_idx in kf.split(X_train):\n",
        "        # Split data\n",
        "        X_train_fold = X_train.iloc[train_idx] if isinstance(X_train, pd.DataFrame) else X_train[train_idx]\n",
        "        X_val_fold = X_train.iloc[val_idx] if isinstance(X_train, pd.DataFrame) else X_train[val_idx]\n",
        "\n",
        "        y_train_home_fold = y_train_home.iloc[train_idx] if isinstance(y_train_home, pd.Series) else y_train_home[train_idx]\n",
        "        y_train_away_fold = y_train_away.iloc[train_idx] if isinstance(y_train_away, pd.Series) else y_train_away[train_idx]\n",
        "\n",
        "        y_val_home = y_train_home.iloc[val_idx] if isinstance(y_train_home, pd.Series) else y_train_home[val_idx]\n",
        "        y_val_away = y_train_away.iloc[val_idx] if isinstance(y_train_away, pd.Series) else y_train_away[val_idx]\n",
        "\n",
        "        # Train model\n",
        "        model_home, model_away = train_func(X_train_fold, y_train_home_fold, y_train_away_fold)\n",
        "\n",
        "        # Predict\n",
        "        pred_home, pred_away = predict_func(model_home, model_away, X_val_fold)\n",
        "\n",
        "        # Evaluate\n",
        "        fold_results = evaluate_model(\"CV Fold\", y_val_home, pred_home, y_val_away, pred_away)\n",
        "        cv_results.append(fold_results)\n",
        "\n",
        "    # Average results across folds\n",
        "    avg_results = {k: np.mean([fold[k] for fold in cv_results])\n",
        "                  for k in cv_results[0].keys() if k not in ['model_name', 'confusion_matrix']}\n",
        "    avg_results['model_name'] = \"CV Average\"\n",
        "\n",
        "    return avg_results, cv_results"
      ],
      "metadata": {
        "id": "Cj-TMUdnRsiJ"
      },
      "execution_count": 14,
      "outputs": []
    },
    {
      "cell_type": "code",
      "source": [
        "def visualize_model_comparison(model_results_list):\n",
        "    \"\"\"\n",
        "    Visualize comparison between different models.\n",
        "    \"\"\"\n",
        "    # Prepare data for plotting\n",
        "    metric_names = ['rmse_combined', 'mae_combined', 'outcome_accuracy',\n",
        "                   'poisson_loglik_home', 'poisson_loglik_away']\n",
        "    metric_labels = ['Combined RMSE', 'Combined MAE', 'Outcome Accuracy',\n",
        "                    'Home Poisson LogLik', 'Away Poisson LogLik']\n",
        "\n",
        "    metrics_df = pd.DataFrame([\n",
        "        {**{'Model': res['model_name']}, **{metric: res[metric] for metric in metric_names if metric in res}}\n",
        "        for res in model_results_list\n",
        "    ])\n",
        "\n",
        "    # Set up the figure\n",
        "    fig, axes = plt.subplots(len(metric_names), 1, figsize=(10, 3*len(metric_names)))\n",
        "\n",
        "    # Plot each metric\n",
        "    for i, (metric, label) in enumerate(zip(metric_names, metric_labels)):\n",
        "        if metric in metrics_df.columns:\n",
        "            ax = axes[i] if len(metric_names) > 1 else axes\n",
        "\n",
        "            # Different plot direction for log-likelihood (higher is better)\n",
        "            if 'loglik' in metric:\n",
        "                sns.barplot(x='Model', y=metric, data=metrics_df, ax=ax)\n",
        "                ax.set_title(f\"{label} (higher is better)\")\n",
        "            else:\n",
        "                sns.barplot(x='Model', y=metric, data=metrics_df, ax=ax)\n",
        "                ax.set_title(f\"{label} ({'higher' if 'accuracy' in metric else 'lower'} is better)\")\n",
        "\n",
        "            ax.set_ylabel(label)\n",
        "            ax.set_xlabel('')\n",
        "\n",
        "            # Add value labels on bars\n",
        "            for p in ax.patches:\n",
        "                ax.annotate(f\"{p.get_height():.3f}\",\n",
        "                           (p.get_x() + p.get_width() / 2., p.get_height()),\n",
        "                           ha='center', va='bottom')\n",
        "\n",
        "    plt.tight_layout()\n",
        "    return fig"
      ],
      "metadata": {
        "id": "1wUJoPM9RvbT"
      },
      "execution_count": 15,
      "outputs": []
    },
    {
      "cell_type": "code",
      "source": [
        "def visualize_calibration(true_home, pred_home, true_away, pred_away, model_name):\n",
        "    \"\"\"\n",
        "    Visualize model calibration - how predicted goal distribution matches actual.\n",
        "    \"\"\"\n",
        "    fig, axes = plt.subplots(1, 2, figsize=(14, 6))\n",
        "\n",
        "    # Home goals\n",
        "    ax = axes[0]\n",
        "    max_goals = max(int(max(true_home.max(), pred_home.max())) + 1, 6)\n",
        "    goal_counts = range(max_goals)\n",
        "\n",
        "    true_home_counts = np.array([np.sum(np.round(true_home) == g) / len(true_home) for g in goal_counts])\n",
        "    pred_home_counts = np.array([np.mean(poisson.pmf(g, pred_home)) for g in goal_counts])\n",
        "\n",
        "    ax.bar(goal_counts, true_home_counts, alpha=0.5, label='Actual', color='blue')\n",
        "    ax.bar(goal_counts, pred_home_counts, alpha=0.5, label='Predicted', color='orange')\n",
        "    ax.set_title(f\"{model_name}: Home Goals Distribution\")\n",
        "    ax.set_xlabel(\"Number of Goals\")\n",
        "    ax.set_ylabel(\"Probability\")\n",
        "    ax.legend()\n",
        "\n",
        "    # Away goals\n",
        "    ax = axes[1]\n",
        "    max_goals = max(int(max(true_away.max(), pred_away.max())) + 1, 6)\n",
        "    goal_counts = range(max_goals)\n",
        "\n",
        "    true_away_counts = np.array([np.sum(np.round(true_away) == g) / len(true_away) for g in goal_counts])\n",
        "    pred_away_counts = np.array([np.mean(poisson.pmf(g, pred_away)) for g in goal_counts])\n",
        "\n",
        "    ax.bar(goal_counts, true_away_counts, alpha=0.5, label='Actual', color='blue')\n",
        "    ax.bar(goal_counts, pred_away_counts, alpha=0.5, label='Predicted', color='orange')\n",
        "    ax.set_title(f\"{model_name}: Away Goals Distribution\")\n",
        "    ax.set_xlabel(\"Number of Goals\")\n",
        "    ax.set_ylabel(\"Probability\")\n",
        "    ax.legend()\n",
        "\n",
        "    plt.tight_layout()\n",
        "    return fig"
      ],
      "metadata": {
        "id": "8b8RRVXeR68g"
      },
      "execution_count": 16,
      "outputs": []
    },
    {
      "cell_type": "code",
      "source": [
        "def evaluate_test_models(test_data, test1_home_pred, test1_away_pred,\n",
        "                        test2_home_pred, test2_away_pred,\n",
        "                        test3_home_pred, test3_away_pred):\n",
        "    \"\"\"\n",
        "    Evaluate and compare all three TEST models.\n",
        "    \"\"\"\n",
        "    # Get actual goals for comparison\n",
        "    true_home_goals = test_data['GOALS_sum_home']\n",
        "    true_away_goals = test_data['GOALS_sum_away']\n",
        "\n",
        "    # Evaluate each model\n",
        "    results_test1 = evaluate_model(\"TEST 1\", true_home_goals, test1_home_pred,\n",
        "                                 true_away_goals, test1_away_pred)\n",
        "\n",
        "    results_test2 = evaluate_model(\"TEST 2\", true_home_goals, test2_home_pred,\n",
        "                                 true_away_goals, test2_away_pred)\n",
        "\n",
        "    results_test3 = evaluate_model(\"TEST 3\", true_home_goals, test3_home_pred,\n",
        "                                 true_away_goals, test3_away_pred)\n",
        "\n",
        "    # Compare models\n",
        "    all_results = [results_test1, results_test2, results_test3]\n",
        "    comparison_fig = visualize_model_comparison(all_results)\n",
        "\n",
        "    # Visualize calibration for best model (example)\n",
        "    best_model_idx = np.argmin([r['rmse_combined'] for r in all_results])\n",
        "    best_model_name = all_results[best_model_idx]['model_name']\n",
        "    best_preds = [test1_home_pred, test2_home_pred, test3_home_pred][best_model_idx]\n",
        "    best_preds_away = [test1_away_pred, test2_away_pred, test3_away_pred][best_model_idx]\n",
        "\n",
        "    calibration_fig = visualize_calibration(true_home_goals, best_preds,\n",
        "                                          true_away_goals, best_preds_away,\n",
        "                                          best_model_name)\n",
        "\n",
        "    return all_results, comparison_fig, calibration_fig"
      ],
      "metadata": {
        "id": "NrRZazhER9ep"
      },
      "execution_count": 17,
      "outputs": []
    },
    {
      "cell_type": "code",
      "source": [
        "# Function to implement cross-validation for a specific model\n",
        "def cross_validate_specific_model(train_data, features_home, features_away,\n",
        "                                train_function, predict_function):\n",
        "    \"\"\"\n",
        "    Perform cross-validation for a specific model implementation.\n",
        "    \"\"\"\n",
        "    # Prepare data\n",
        "    X_train = train_data.copy()\n",
        "    y_train_home = train_data['GOALS_sum_home']\n",
        "    y_train_away = train_data['GOALS_sum_away']\n",
        "\n",
        "    # Run cross-validation\n",
        "    avg_results, fold_results = cross_validate_model(\n",
        "        train_function, predict_function,\n",
        "        X_train, y_train_home, y_train_away, n_splits=5\n",
        "    )\n",
        "\n",
        "    return avg_results, fold_results"
      ],
      "metadata": {
        "id": "h-mW7x-4SF4x"
      },
      "execution_count": 18,
      "outputs": []
    },
    {
      "cell_type": "code",
      "source": [
        "def run_evaluations():\n",
        "    # Create merged test data with actual goals for evaluation\n",
        "    test_data = pd.merge(test_home_team_original, test_away_team_original, on='ID', suffixes=('_home', '_away'))\n",
        "\n",
        "    # Train all models\n",
        "    model1_home, model1_away = train_test1()\n",
        "    model2_tuple = train_test2()\n",
        "    model3_tuple = train_test3()\n",
        "\n",
        "    # Generate predictions\n",
        "    test1_home_pred, test1_away_pred = predict_test1(model1_home, model1_away)\n",
        "    test2_home_pred, test2_away_pred = predict_test2(model2_tuple)\n",
        "    test3_home_pred, test3_away_pred = predict_test3(model3_tuple)\n",
        "\n",
        "    # Scale predictions appropriately if needed\n",
        "    # (TEST 1 and 2 predict avg goals, TEST 3 predicts sum goals)\n",
        "    # Make sure all predictions are on the same scale!\n",
        "\n",
        "    # Run evaluation\n",
        "    results, comparison_fig, calibration_fig = evaluate_test_models(\n",
        "        test_data,\n",
        "        test1_home_pred, test1_away_pred,\n",
        "        test2_home_pred, test2_away_pred,\n",
        "        test3_home_pred, test3_away_pred\n",
        "    )\n",
        "\n",
        "    return results, comparison_fig, calibration_fig\n",
        "\n",
        "# Run everything\n",
        "results, comparison_fig, calibration_fig = run_evaluations()"
      ],
      "metadata": {
        "colab": {
          "base_uri": "https://localhost:8080/",
          "height": 1000
        },
        "id": "zVw4KYIUl2Vr",
        "outputId": "3d6fd19e-d4ab-4cbe-f52f-402b611f86ba"
      },
      "execution_count": 19,
      "outputs": [
        {
          "output_type": "display_data",
          "data": {
            "text/plain": [
              "<Figure size 1000x1500 with 5 Axes>"
            ],
            "image/png": "[encoded data removed]"
          },
          "metadata": {}
        },
        {
          "output_type": "display_data",
          "data": {
            "text/plain": [
              "<Figure size 1400x600 with 2 Axes>"
            ],
            "image/png": "[encoded data removed]"
          },
          "metadata": {}
        }
      ]
    },
    {
      "cell_type": "markdown",
      "source": [
        "# PREDICT WINNER"
      ],
      "metadata": {
        "id": "DkZ6w5dnLMvP"
      }
    },
    {
      "cell_type": "code",
      "source": [
        "def predict_winner(model_tuple, home_team_id, away_team_id):\n",
        "    # Get the expected goals\n",
        "    poisson_home, poisson_away, scaler, features = model_tuple\n",
        "\n",
        "    # Get team data for the specific matchup\n",
        "    home_team_data = test_home_team_original[test_home_team_original['ID'] == home_team_id]\n",
        "    away_team_data = test_away_team_original[test_away_team_original['ID'] == away_team_id]\n",
        "\n",
        "    # Merge the data\n",
        "    matchup_data = home_team_data.merge(away_team_data, on=\"ID\", suffixes=(\"_home\", \"_away\"))\n",
        "\n",
        "    # Drop non-numeric columns\n",
        "    matchup_data = matchup_data.drop(columns=[\"NAME_home\", \"NAME_away\", \"LEAGUE_home\", \"LEAGUE_away\"], errors=\"ignore\")\n",
        "\n",
        "    # Select features\n",
        "    X_matchup = matchup_data[features]\n",
        "    X_matchup_scaled = scaler.transform(X_matchup)\n",
        "\n",
        "    # Predict expected goals\n",
        "    expected_home_goals = poisson_home.predict(X_matchup_scaled)[0]\n",
        "    expected_away_goals = poisson_away.predict(X_matchup_scaled)[0]\n",
        "\n",
        "    # Calculate win probabilities using Poisson distribution\n",
        "    from scipy.stats import poisson\n",
        "    import numpy as np\n",
        "\n",
        "    max_goals = 10\n",
        "    home_win_prob = 0\n",
        "    draw_prob = 0\n",
        "    away_win_prob = 0\n",
        "\n",
        "    # Calculate outcome probabilities by simulating all possible score combinations\n",
        "    for home_goals in range(max_goals):\n",
        "        for away_goals in range(max_goals):\n",
        "            p = poisson.pmf(home_goals, expected_home_goals) * poisson.pmf(away_goals, expected_away_goals)\n",
        "            if home_goals > away_goals:\n",
        "                home_win_prob += p\n",
        "            elif home_goals == away_goals:\n",
        "                draw_prob += p\n",
        "            else:\n",
        "                away_win_prob += p\n",
        "\n",
        "    team_names = {\n",
        "        \"home\": home_team_data[\"NAME_home\"].values[0] if \"NAME_home\" in home_team_data.columns else f\"Team {home_team_id}\",\n",
        "        \"away\": away_team_data[\"NAME_away\"].values[0] if \"NAME_away\" in away_team_data.columns else f\"Team {away_team_id}\"\n",
        "    }\n",
        "\n",
        "    return {\n",
        "        \"expected_goals\": {\n",
        "            \"home\": round(expected_home_goals, 2),\n",
        "            \"away\": round(expected_away_goals, 2)\n",
        "        },\n",
        "        \"win_probabilities\": {\n",
        "            team_names[\"home\"]: round(home_win_prob * 100, 2),\n",
        "            \"Draw\": round(draw_prob * 100, 2),\n",
        "            team_names[\"away\"]: round(away_win_prob * 100, 2)\n",
        "        },\n",
        "        \"predicted_result\": \"Home\" if home_win_prob > max(away_win_prob, draw_prob) else\n",
        "                          \"Draw\" if draw_prob > away_win_prob else\n",
        "                          \"Away\"\n",
        "    }"
      ],
      "metadata": {
        "id": "ppqjA5InLMYd"
      },
      "execution_count": 30,
      "outputs": []
    },
    {
      "cell_type": "code",
      "source": [
        "def analyze_team_strengths(model_tuple):\n",
        "    poisson_home, poisson_away, scaler, features = model_tuple\n",
        "\n",
        "    # Get feature names without suffixes\n",
        "    base_features = [f.replace('_home', '').replace('_away', '') for f in features\n",
        "                     if not (f.endswith('_home') and f.replace('_home', '_away') in features)]\n",
        "\n",
        "    # Extract coefficients\n",
        "    home_coefs = dict(zip(features, poisson_home.coef_))\n",
        "    away_coefs = dict(zip(features, poisson_away.coef_))\n",
        "\n",
        "    # Analyze which factors most influence scoring\n",
        "    key_factors = {}\n",
        "    for base in set(base_features):\n",
        "        home_key = next((f for f in features if base in f and '_home' in f), None)\n",
        "        away_key = next((f for f in features if base in f and '_away' in f), None)\n",
        "\n",
        "        if home_key and away_key:\n",
        "            key_factors[base] = {\n",
        "                \"home_impact\": home_coefs.get(home_key, 0),\n",
        "                \"away_impact\": away_coefs.get(away_key, 0)\n",
        "            }\n",
        "\n",
        "    # Sort by overall importance (sum of absolute values)\n",
        "    sorted_factors = sorted(key_factors.items(),\n",
        "                           key=lambda x: abs(x[1]['home_impact']) + abs(x[1]['away_impact']),\n",
        "                           reverse=True)\n",
        "\n",
        "    return sorted_factors"
      ],
      "metadata": {
        "id": "cps3h2TfLvcB"
      },
      "execution_count": 21,
      "outputs": []
    },
    {
      "cell_type": "code",
      "source": [
        "# Train the model\n",
        "model = train_test2()\n",
        "\n",
        "# Predict a match outcome\n",
        "match_prediction = predict_winner(model, home_team_id=12303, away_team_id=12303)\n",
        "print(f\"Expected score: {match_prediction['expected_goals']['home']} - {match_prediction['expected_goals']['away']}\")\n",
        "print(f\"Win probabilities: {match_prediction['win_probabilities']}\")\n",
        "print(f\"Predicted winner: {match_prediction['predicted_result']}\")\n",
        "\n",
        "# Analyze team strengths\n",
        "team_strengths = analyze_team_strengths(model)\n",
        "print(\"Most important factors for team performance:\")\n",
        "for factor, impacts in team_strengths[:5]:\n",
        "    print(f\"{factor}: Home impact={impacts['home_impact']:.4f}, Away impact={impacts['away_impact']:.4f}\")"
      ],
      "metadata": {
        "colab": {
          "base_uri": "https://localhost:8080/"
        },
        "id": "snmJJWcWL0V0",
        "outputId": "7e1e6296-ee0a-4663-f0ff-57d4bfd7f5fa"
      },
      "execution_count": 31,
      "outputs": [
        {
          "output_type": "stream",
          "name": "stdout",
          "text": [
            "Expected score: 0.93 - 2.69\n",
            "Win probabilities: {'Team 12303': np.float64(74.55), 'Draw': np.float64(14.94)}\n",
            "Predicted winner: Away\n",
            "Most important factors for team performance:\n",
            "GOALS_sum: Home impact=0.6210, Away impact=0.6280\n",
            "GAME_LOST_5_last_match_sum: Home impact=0.1091, Away impact=0.2446\n",
            "GAME_LOST_5_last_match_avg: Home impact=-0.0934, Away impact=-0.2266\n",
            "REDCARDS_5_last_match_sum: Home impact=-0.2556, Away impact=0.0538\n",
            "REDCARDS_5_last_match_avg: Home impact=0.2609, Away impact=-0.0476\n"
          ]
        }
      ]
    },
    {
      "cell_type": "markdown",
      "source": [
        "# Graphing"
      ],
      "metadata": {
        "id": "BtmL403sWBGr"
      }
    },
    {
      "cell_type": "markdown",
      "source": [
        "# Actual vs Predicted Goals Distribution"
      ],
      "metadata": {
        "id": "mWzUpnBqCfu0"
      }
    },
    {
      "cell_type": "code",
      "source": [
        "plt.figure(figsize=(12, 5))\n",
        "\n",
        "# Home Team\n",
        "plt.subplot(1, 2, 1)\n",
        "sns.kdeplot(test_data['GOALS_sum_home'], label='Actual', fill=True)\n",
        "sns.kdeplot(test_data['PRED_GOALS_HOME'], label='Predicted', fill=True)\n",
        "plt.title('Home Team Goals Distribution')\n",
        "plt.xlabel('Goals')\n",
        "plt.legend()\n",
        "\n",
        "# Away Team\n",
        "plt.subplot(1, 2, 2)\n",
        "sns.kdeplot(test_data['GOALS_sum_away'], label='Actual', fill=True)\n",
        "sns.kdeplot(test_data['PRED_GOALS_AWAY'], label='Predicted', fill=True)\n",
        "plt.title('Away Team Goals Distribution')\n",
        "plt.xlabel('Goals')\n",
        "\n",
        "plt.tight_layout()\n",
        "plt.show()"
      ],
      "metadata": {
        "id": "nQzFN9qkCUMS"
      },
      "execution_count": null,
      "outputs": []
    },
    {
      "cell_type": "markdown",
      "source": [
        "# Residual Analysis Plot\n"
      ],
      "metadata": {
        "id": "YqgiyL7pChb5"
      }
    },
    {
      "cell_type": "code",
      "source": [
        "# Calculate residuals\n",
        "test_data['RESIDUALS_HOME'] = test_data['GOALS_sum_home'] - test_data['PRED_GOALS_HOME']\n",
        "\n",
        "sns.scatterplot(x=test_data['PRED_GOALS_HOME'], y=test_data['RESIDUALS_HOME'], alpha=0.5)\n",
        "plt.axhline(y=0, color='r', linestyle='--')\n",
        "plt.title('Residuals vs Predicted Goals (Home Team)')\n",
        "plt.xlabel('Predicted Goals')\n",
        "plt.ylabel('Residuals (Actual - Predicted)')\n",
        "plt.show()"
      ],
      "metadata": {
        "id": "vdEq0Oq3CcAI"
      },
      "execution_count": null,
      "outputs": []
    },
    {
      "cell_type": "markdown",
      "source": [
        "# Outcome Prediction Confusion Matrix"
      ],
      "metadata": {
        "id": "6z02A_mRCpcr"
      }
    },
    {
      "cell_type": "code",
      "source": [
        "# Create actual outcomes\n",
        "test_data['ACTUAL_OUTCOME'] = np.where(test_data['GOALS_sum_home'] > test_data['GOALS_sum_away'],\n",
        "                                     'Home Win',\n",
        "                                     np.where(test_data['GOALS_sum_away'] > test_data['GOALS_sum_home'],\n",
        "                                             'Away Win',\n",
        "                                             'Draw'))\n",
        "\n",
        "# Generate confusion matrix\n",
        "cm = confusion_matrix(test_data['ACTUAL_OUTCOME'],\n",
        "                     test_data['PREDICTED_OUTCOME'],\n",
        "                     labels=['Home Win', 'Draw', 'Away Win'])\n",
        "\n",
        "plt.figure(figsize=(8, 6))\n",
        "sns.heatmap(cm, annot=True, fmt='d', cmap='Blues',\n",
        "            xticklabels=['Home Win', 'Draw', 'Away Win'],\n",
        "            yticklabels=['Home Win', 'Draw', 'Away Win'])\n",
        "plt.title('Outcome Prediction Confusion Matrix')\n",
        "plt.xlabel('Predicted')\n",
        "plt.ylabel('Actual')\n",
        "plt.show()"
      ],
      "metadata": {
        "id": "RBWT9_2NCmep"
      },
      "execution_count": null,
      "outputs": []
    },
    {
      "cell_type": "markdown",
      "source": [
        "# Feature Importance Plot"
      ],
      "metadata": {
        "id": "AeQ8Jhk9CtcZ"
      }
    },
    {
      "cell_type": "code",
      "source": [
        "# Get coefficients from home team model\n",
        "coefs = poisson_home.params.drop('const')\n",
        "coefs = coefs.sort_values()\n",
        "\n",
        "plt.figure(figsize=(10, 6))\n",
        "coefs.plot(kind='barh', color='skyblue')\n",
        "plt.title('Poisson Regression Feature Importance (Home Team)')\n",
        "plt.xlabel('Coefficient Value')\n",
        "plt.ylabel('Features')\n",
        "plt.axvline(x=0, color='grey', linestyle='--')\n",
        "plt.show()"
      ],
      "metadata": {
        "id": "rLcmhnyqCtUD"
      },
      "execution_count": null,
      "outputs": []
    },
    {
      "cell_type": "markdown",
      "source": [
        "# Predicted Goal Difference Heatmap"
      ],
      "metadata": {
        "id": "NUy-V7cqCzb7"
      }
    },
    {
      "cell_type": "code",
      "source": [
        "# Create goal difference matrix\n",
        "goal_diff = pd.pivot_table(data=test_data,\n",
        "                          values='PRED_GOALS_HOME' - test_data['PRED_GOALS_AWAY'],\n",
        "                          index=test_data['HOME_TEAM_ID'],  # Replace with actual column names\n",
        "                          columns=test_data['AWAY_TEAM_ID'],\n",
        "                          aggfunc='mean')\n",
        "\n",
        "plt.figure(figsize=(12, 10))\n",
        "sns.heatmap(goal_diff, cmap='coolwarm', center=0)\n",
        "plt.title('Average Predicted Goal Difference (Home - Away)')\n",
        "plt.xlabel('Away Team ID')\n",
        "plt.ylabel('Home Team ID')\n",
        "plt.show()"
      ],
      "metadata": {
        "id": "4qzA4eqzCzza"
      },
      "execution_count": null,
      "outputs": []
    },
    {
      "cell_type": "markdown",
      "source": [
        "# Match Outcome Probability Distribution"
      ],
      "metadata": {
        "id": "DGJoviKJC4ib"
      }
    },
    {
      "cell_type": "code",
      "source": [
        "# Calculate win/draw/loss probabilities\n",
        "test_data['HOME_WIN_PROB'] = np.exp(-test_data['PRED_GOALS_AWAY']) * \\\n",
        "                            (test_data['PRED_GOALS_HOME']**np.arange(10)).cumsum() / \\\n",
        "                            np.math.factorial(np.arange(10))).max()\n",
        "\n",
        "plt.figure(figsize=(10, 6))\n",
        "sns.histplot(data=test_data, x='HOME_WIN_PROB', bins=30, kde=True)\n",
        "plt.title('Distribution of Home Win Probabilities')\n",
        "plt.xlabel('Probability of Home Win')\n",
        "plt.ylabel('Count')\n",
        "plt.show()"
      ],
      "metadata": {
        "id": "VLUzE_UWC4Bf"
      },
      "execution_count": null,
      "outputs": []
    }
  ]
}