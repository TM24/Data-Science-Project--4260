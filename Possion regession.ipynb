{
  "nbformat": 4,
  "nbformat_minor": 0,
  "metadata": {
    "colab": {
      "provenance": []
    },
    "kernelspec": {
      "name": "python3",
      "display_name": "Python 3"
    },
    "language_info": {
      "name": "python"
    }
  },
  "cells": [
    {
      "cell_type": "code",
      "execution_count": 1,
      "metadata": {
        "id": "y6SFFyFfCPbd"
      },
      "outputs": [],
      "source": [
        "import numpy as np\n",
        "import pandas as pd\n",
        "import os\n",
        "import matplotlib.pyplot as plt\n",
        "import statsmodels.api as sm\n",
        "import matplotlib.pyplot as plt\n",
        "import seaborn as sns\n",
        "from sklearn.linear_model import PoissonRegressor\n",
        "from sklearn.preprocessing import StandardScaler\n",
        "from sklearn.metrics import confusion_matrix"
      ]
    },
    {
      "cell_type": "markdown",
      "source": [
        "# CLEANING"
      ],
      "metadata": {
        "id": "BGORtq62VuaG"
      }
    },
    {
      "cell_type": "code",
      "source": [
        "# Function to load and clean data\n",
        "def load_and_clean_data(file_path):\n",
        "    \"\"\"Load a dataset and apply cleaning steps.\n",
        "    Removes STD, season average, and last 5 matched sum\n",
        "    Fills NULL/nan values with 0/zero\n",
        "    and drops rows with more than 20% NULL values we cna change this\n",
        "    I just felt like 20% seemed right\"\"\"\n",
        "    try:\n",
        "        df = pd.read_csv(file_path)\n",
        "        #df = df.drop(df.filter(regex='_std$').columns, axis=1)\n",
        "\n",
        "        # Drop rows where more than 80% of the data is missing\n",
        "        threshold = int(0.20 * len(df.columns))  # Keep rows with at least 80% non-null values\n",
        "        df = df.dropna(thresh=threshold)\n",
        "\n",
        "        # Fill remaining missing values with zero\n",
        "        df = df.fillna(0)\n",
        "        return df\n",
        "    except FileNotFoundError as e:\n",
        "        print(f\"Error loading {file_path}: {e}\")\n",
        "        return None"
      ],
      "metadata": {
        "id": "qkh_ZFlQy2hM"
      },
      "execution_count": 2,
      "outputs": []
    },
    {
      "cell_type": "code",
      "source": [
        "def to_csv(df, file_path):\n",
        "    \"\"\"Save a DataFrame to a CSV file.\"\"\"\n",
        "    try:\n",
        "        df.to_csv(file_path, index=False)\n",
        "        print(f\"Saved {file_path} ({df.shape[0]} rows, {df.shape[1]} columns)\")\n",
        "    except Exception as e:\n",
        "        print(f\"Error saving {file_path}: {e}\")"
      ],
      "metadata": {
        "id": "BHw74GLG1JLv"
      },
      "execution_count": 3,
      "outputs": []
    },
    {
      "cell_type": "code",
      "source": [
        "# Define dataset paths\n",
        "data_paths = {\n",
        "    \"train_home_team\": \"/content/Data/train_home_team_statistics_df.csv\",\n",
        "    \"train_home_player\": \"/content/Data/train_home_player_statistics_df.csv\" ,\n",
        "    \"train_away_team\": \"/content/Data/train_away_team_statistics_df.csv\",\n",
        "    \"train_away_player\": \"/content/Data/train_away_player_statistics_df.csv\",\n",
        "\n",
        "    \"test_home_team\": \"/content/Data/test_home_team_statistics_df.csv\",\n",
        "    \"test_home_player\": \"/content/Data/test_home_player_statistics_df.csv\",\n",
        "    \"test_away_team\": \"/content/Data/test_away_team_statistics_df.csv\",\n",
        "    \"test_away_player\": \"/content/Data/test_away_player_statistics_df.csv\"\n",
        "}"
      ],
      "metadata": {
        "id": "dZQSA3rWzQ9m"
      },
      "execution_count": 4,
      "outputs": []
    },
    {
      "cell_type": "code",
      "source": [
        "train_home_team = load_and_clean_data(data_paths[\"train_home_team\"])\n",
        "#train_home_player = load_and_clean_data(data_paths[\"train_home_player\"])\n",
        "train_away_team = load_and_clean_data(data_paths[\"train_away_team\"])\n",
        "#train_away_player = load_and_clean_data(data_paths[\"train_away_player\"])\n",
        "\n",
        "test_home_team = load_and_clean_data(data_paths[\"test_home_team\"])\n",
        "#test_home_player = load_and_clean_data(data_paths[\"test_home_player\"])\n",
        "test_away_team = load_and_clean_data(data_paths[\"test_away_team\"])\n",
        "#test_away_player = load_and_clean_data(data_paths[\"test_away_player\"])\n",
        "\n",
        "print(\"Data cleaning completed.\")"
      ],
      "metadata": {
        "colab": {
          "base_uri": "https://localhost:8080/"
        },
        "id": "wRzcLw3AzXka",
        "outputId": "ab26e8eb-6d0e-4906-8808-8e9ad5372363"
      },
      "execution_count": 5,
      "outputs": [
        {
          "output_type": "stream",
          "name": "stdout",
          "text": [
            "Data cleaning completed.\n"
          ]
        }
      ]
    },
    {
      "cell_type": "code",
      "source": [
        "output_path = \"/content/Data/CleanData\"\n",
        "os.makedirs(output_path, exist_ok=True)\n",
        "\n",
        "to_csv(train_home_team, os.path.join(output_path, \"train_home_team.csv\"))\n",
        "#to_csv(train_home_player, os.path.join(output_path, \"train_home_player.csv\"))\n",
        "to_csv(train_away_team, os.path.join(output_path, \"train_away_team.csv\"))\n",
        "#to_csv(train_away_player, os.path.join(output_path, \"train_away_player.csv\"))\n",
        "\n",
        "to_csv(test_home_team, os.path.join(output_path, \"test_home_team.csv\"))\n",
        "#to_csv(test_home_player, os.path.join(output_path, \"test_home_player.csv\"))\n",
        "to_csv(test_away_team, os.path.join(output_path, \"test_away_team.csv\"))\n",
        "#to_csv(test_away_player, os.path.join(output_path, \"test_away_player.csv\"))\n",
        "\n",
        "print(\"Done\")"
      ],
      "metadata": {
        "colab": {
          "base_uri": "https://localhost:8080/"
        },
        "id": "9m_zOrPt1ti9",
        "outputId": "e838b61a-8cd3-47ba-e03c-87d2dfa103c2"
      },
      "execution_count": 6,
      "outputs": [
        {
          "output_type": "stream",
          "name": "stdout",
          "text": [
            "Saved /content/Data/CleanData/train_home_team.csv (12303 rows, 143 columns)\n",
            "Saved /content/Data/CleanData/train_away_team.csv (12303 rows, 143 columns)\n",
            "Saved /content/Data/CleanData/test_home_team.csv (25368 rows, 141 columns)\n",
            "Saved /content/Data/CleanData/test_away_team.csv (25368 rows, 141 columns)\n",
            "Done\n"
          ]
        }
      ]
    },
    {
      "cell_type": "code",
      "source": [
        "#Team data train and test\n",
        "train_home_team = pd.read_csv(\"/content/Data/CleanData/train_home_team.csv\")\n",
        "train_away_team = pd.read_csv(\"/content/Data/CleanData/train_away_team.csv\")\n",
        "\n",
        "test_home_team = pd.read_csv(\"/content/Data/CleanData/test_home_team.csv\")\n",
        "test_away_team = pd.read_csv(\"/content/Data/CleanData/test_away_team.csv\")\n"
      ],
      "metadata": {
        "id": "9Az9VCNo3Uxt"
      },
      "execution_count": 7,
      "outputs": []
    },
    {
      "cell_type": "code",
      "source": [
        "def rename_columns(columns):\n",
        "    \"\"\"\n",
        "    Renames columns by removing 'TEAM_' prefix and '_season' substring.\n",
        "\n",
        "    Args:\n",
        "        columns (list): List of column names to be renamed.\n",
        "\n",
        "    Returns:\n",
        "        list: List of renamed column names.\n",
        "    \"\"\"\n",
        "    renamed_columns = []\n",
        "    for col in columns:\n",
        "        # Remove 'TEAM_' prefix\n",
        "        col = col.replace('TEAM_', '')\n",
        "        # Remove '_season' substring\n",
        "        col = col.replace('_season', '')\n",
        "        # Change average to avg\n",
        "        col = col.replace('average', 'avg')\n",
        "        renamed_columns.append(col)\n",
        "    return renamed_columns"
      ],
      "metadata": {
        "id": "0ilUubUX372c"
      },
      "execution_count": 8,
      "outputs": []
    },
    {
      "cell_type": "code",
      "source": [
        "# rename columns\n",
        "train_home_team.columns = rename_columns(train_home_team.columns)\n",
        "train_away_team.columns = rename_columns(train_away_team.columns)\n",
        "test_home_team.columns = rename_columns(test_home_team.columns)\n",
        "test_away_team.columns = rename_columns(test_away_team.columns)"
      ],
      "metadata": {
        "id": "fGDuv7M85icO"
      },
      "execution_count": 9,
      "outputs": []
    },
    {
      "cell_type": "markdown",
      "source": [
        "# TESTING 1\n"
      ],
      "metadata": {
        "id": "ruJBPUHHVqMH"
      }
    },
    {
      "cell_type": "code",
      "source": [
        "features = [\n",
        "    \"SHOTS_ON_TARGET_avg\", \"ATTACKS_avg\", \"DANGEROUS_ATTACKS_avg\",\n",
        "    \"BALL_POSSESSION_avg\", \"CORNERS_avg\", \"FOULS_avg\"\n",
        "]"
      ],
      "metadata": {
        "id": "rH5b1VowXJ68"
      },
      "execution_count": 10,
      "outputs": []
    },
    {
      "cell_type": "code",
      "source": [
        "# Prepare training data\n",
        "X_train_home = train_home_team[features]\n",
        "X_train_away = train_away_team[features]\n",
        "y_train_home = train_home_team[\"GOALS_avg\"]\n",
        "y_train_away = train_away_team[\"GOALS_avg\"]"
      ],
      "metadata": {
        "id": "pIe8-9hlXSUA"
      },
      "execution_count": 11,
      "outputs": []
    },
    {
      "cell_type": "code",
      "source": [
        "# Add constant for Poisson regression\n",
        "X_train_home = sm.add_constant(X_train_home)\n",
        "X_train_away = sm.add_constant(X_train_away)"
      ],
      "metadata": {
        "id": "0CbJ6yGTXeLC"
      },
      "execution_count": 12,
      "outputs": []
    },
    {
      "cell_type": "code",
      "source": [
        "# Train Poisson regression models\n",
        "poisson_home = sm.GLM(y_train_home, X_train_home, family=sm.families.Poisson()).fit()\n",
        "poisson_away = sm.GLM(y_train_away, X_train_away, family=sm.families.Poisson()).fit()\n"
      ],
      "metadata": {
        "id": "1tSMd4qXXvfZ"
      },
      "execution_count": 13,
      "outputs": []
    },
    {
      "cell_type": "code",
      "source": [
        "# Prepare test data\n",
        "X_test_home = sm.add_constant(test_home_team[features])\n",
        "X_test_away = sm.add_constant(test_away_team[features])"
      ],
      "metadata": {
        "id": "SKHtLCpvXxN2"
      },
      "execution_count": 14,
      "outputs": []
    },
    {
      "cell_type": "code",
      "source": [
        "# Predict expected goals\n",
        "test_home_team[\"Expected_Goals\"] = poisson_home.predict(X_test_home)\n",
        "test_away_team[\"Expected_Goals\"] = poisson_away.predict(X_test_away)"
      ],
      "metadata": {
        "id": "hZisjh0oXzVI"
      },
      "execution_count": 15,
      "outputs": []
    },
    {
      "cell_type": "code",
      "source": [
        "print(f\"Train Home Max ID: {train_home_team['ID'].max()}, Test Home Min ID: {test_home_team['ID'].min()}\")"
      ],
      "metadata": {
        "colab": {
          "base_uri": "https://localhost:8080/"
        },
        "id": "NN6IATc-rlYE",
        "outputId": "3d38f445-7eae-448f-8111-7b2c1d1e5c16"
      },
      "execution_count": 16,
      "outputs": [
        {
          "output_type": "stream",
          "name": "stdout",
          "text": [
            "Train Home Max ID: 12302, Test Home Min ID: 12303\n"
          ]
        }
      ]
    },
    {
      "cell_type": "code",
      "source": [
        "print(\"Home\")\n",
        "print(test_home_team[[\"ID\", \"Expected_Goals\"]].head())\n",
        "print(\"Away\")\n",
        "print(test_away_team[[\"ID\", \"Expected_Goals\"]].head())"
      ],
      "metadata": {
        "colab": {
          "base_uri": "https://localhost:8080/"
        },
        "id": "SaqxC6gZr3_C",
        "outputId": "2c47166e-99c9-4e28-e0fa-367c0cc86b09"
      },
      "execution_count": 17,
      "outputs": [
        {
          "output_type": "stream",
          "name": "stdout",
          "text": [
            "Home\n",
            "      ID  Expected_Goals\n",
            "0  12303        2.076852\n",
            "1  12304        2.288906\n",
            "2  12305        6.592273\n",
            "3  12306        6.210275\n",
            "4  12307        2.197629\n",
            "Away\n",
            "      ID  Expected_Goals\n",
            "0  12303        5.434353\n",
            "1  12304        3.941672\n",
            "2  12305        2.463659\n",
            "3  12306        6.541262\n",
            "4  12307        2.342042\n"
          ]
        }
      ]
    },
    {
      "cell_type": "code",
      "source": [
        "print(\"Home\")\n",
        "print(poisson_home.summary())\n",
        "print(\"Away\")\n",
        "print(poisson_away.summary())"
      ],
      "metadata": {
        "colab": {
          "base_uri": "https://localhost:8080/"
        },
        "id": "7tWzCOa5vOB-",
        "outputId": "1a01ac93-37c0-40ab-8483-eacda06835f5"
      },
      "execution_count": 18,
      "outputs": [
        {
          "output_type": "stream",
          "name": "stdout",
          "text": [
            "Home\n",
            "                 Generalized Linear Model Regression Results                  \n",
            "==============================================================================\n",
            "Dep. Variable:              GOALS_avg   No. Observations:                12303\n",
            "Model:                            GLM   Df Residuals:                    12296\n",
            "Model Family:                 Poisson   Df Model:                            6\n",
            "Link Function:                    Log   Scale:                          1.0000\n",
            "Method:                          IRLS   Log-Likelihood:                -25171.\n",
            "Date:                Thu, 06 Mar 2025   Deviance:                       16714.\n",
            "Time:                        23:06:59   Pearson chi2:                 1.47e+04\n",
            "No. Iterations:                     5   Pseudo R-squ. (CS):             0.6381\n",
            "Covariance Type:            nonrobust                                         \n",
            "=========================================================================================\n",
            "                            coef    std err          z      P>|z|      [0.025      0.975]\n",
            "-----------------------------------------------------------------------------------------\n",
            "const                     0.5017      0.014     36.667      0.000       0.475       0.528\n",
            "SHOTS_ON_TARGET_avg       0.1476      0.002     67.409      0.000       0.143       0.152\n",
            "ATTACKS_avg               0.0036      0.003      1.410      0.158      -0.001       0.009\n",
            "DANGEROUS_ATTACKS_avg     0.0040      0.003      1.434      0.151      -0.001       0.010\n",
            "BALL_POSSESSION_avg       0.0297      0.002     12.674      0.000       0.025       0.034\n",
            "CORNERS_avg               0.0030      0.002      1.277      0.202      -0.002       0.008\n",
            "FOULS_avg                -0.0063      0.002     -3.841      0.000      -0.009      -0.003\n",
            "=========================================================================================\n",
            "Away\n",
            "                 Generalized Linear Model Regression Results                  \n",
            "==============================================================================\n",
            "Dep. Variable:              GOALS_avg   No. Observations:                12303\n",
            "Model:                            GLM   Df Residuals:                    12296\n",
            "Model Family:                 Poisson   Df Model:                            6\n",
            "Link Function:                    Log   Scale:                          1.0000\n",
            "Method:                          IRLS   Log-Likelihood:                -25285.\n",
            "Date:                Thu, 06 Mar 2025   Deviance:                       16701.\n",
            "Time:                        23:06:59   Pearson chi2:                 1.47e+04\n",
            "No. Iterations:                     5   Pseudo R-squ. (CS):             0.6375\n",
            "Covariance Type:            nonrobust                                         \n",
            "=========================================================================================\n",
            "                            coef    std err          z      P>|z|      [0.025      0.975]\n",
            "-----------------------------------------------------------------------------------------\n",
            "const                     0.5081      0.014     37.151      0.000       0.481       0.535\n",
            "SHOTS_ON_TARGET_avg       0.1468      0.002     68.557      0.000       0.143       0.151\n",
            "ATTACKS_avg               0.0021      0.002      0.826      0.409      -0.003       0.007\n",
            "DANGEROUS_ATTACKS_avg     0.0030      0.003      1.058      0.290      -0.003       0.008\n",
            "BALL_POSSESSION_avg       0.0314      0.002     13.589      0.000       0.027       0.036\n",
            "CORNERS_avg               0.0024      0.002      1.027      0.304      -0.002       0.007\n",
            "FOULS_avg                -0.0049      0.002     -3.057      0.002      -0.008      -0.002\n",
            "=========================================================================================\n"
          ]
        }
      ]
    },
    {
      "cell_type": "markdown",
      "source": [
        "# TESTING 2\n"
      ],
      "metadata": {
        "id": "u_nF-8CAv57i"
      }
    },
    {
      "cell_type": "code",
      "source": [
        "df_train_team = train_home_team.merge(train_away_team, on=\"ID\", suffixes=(\"_home\", \"_away\"))\n",
        "\n",
        "# Drop non-numeric columns\n",
        "df_train_team = df_train_team.drop(columns=[\"NAME_home\", \"NAME_away\", \"LEAGUE_home\", \"LEAGUE_away\"], errors=\"ignore\")\n",
        "\n",
        "# Define features and target\n",
        "features = [col for col in df_train_team.columns if col not in [\"ID\", \"GOALS_avg_home\", \"GOALS_avg_away\"]]\n",
        "X_train = df_train_team[features]\n",
        "y_train_home = df_train_team[\"GOALS_avg_home\"]\n",
        "y_train_away = df_train_team[\"GOALS_avg_away\"]"
      ],
      "metadata": {
        "id": "aVZPEMrwxVat"
      },
      "execution_count": 23,
      "outputs": []
    },
    {
      "cell_type": "code",
      "source": [
        "scaler = StandardScaler()\n",
        "X_train_scaled = scaler.fit_transform(X_train)\n",
        "\n",
        "\n",
        "# Train models\n",
        "poisson_home = PoissonRegressor(alpha=0, max_iter=1000).fit(X_train_scaled, y_train_home)\n",
        "poisson_away = PoissonRegressor(alpha=0, max_iter=1000).fit(X_train_scaled, y_train_away)"
      ],
      "metadata": {
        "id": "CIcPSG72xocD"
      },
      "execution_count": 24,
      "outputs": []
    },
    {
      "cell_type": "code",
      "source": [
        "# Merge test datasets\n",
        "df_test = test_home_team.merge(test_away_team, on=\"ID\", suffixes=(\"_home\", \"_away\"))\n",
        "\n",
        "# Drop non-numeric columns\n",
        "df_test = df_test.drop(columns=[\"NAME_home\", \"NAME_away\", \"LEAGUE_home\", \"LEAGUE_away\"], errors=\"ignore\")\n",
        "\n",
        "# Select features\n",
        "X_test = df_test[features]\n",
        "X_test_scaled = scaler.transform(X_test)  # Scale test data\n",
        "\n",
        "# Predict Expected Goals\n",
        "df_test[\"Expected_Goals_home\"] = poisson_home.predict(X_test_scaled)\n",
        "df_test[\"Expected_Goals_away\"] = poisson_away.predict(X_test_scaled)"
      ],
      "metadata": {
        "id": "Ycz6OGWEx_60"
      },
      "execution_count": 25,
      "outputs": []
    },
    {
      "cell_type": "code",
      "source": [
        "# Define predicted match result\n",
        "df_test[\"Predicted_Result\"] = df_test.apply(\n",
        "    lambda row: \"Home Win\" if row[\"Expected_Goals_home\"] > row[\"Expected_Goals_away\"]\n",
        "    else \"Away Win\" if row[\"Expected_Goals_home\"] < row[\"Expected_Goals_away\"]\n",
        "    else \"Draw\", axis=1\n",
        ")\n",
        "\n",
        "# Count occurrences of each outcome\n",
        "print(df_test[\"Predicted_Result\"].value_counts())"
      ],
      "metadata": {
        "id": "oBDLxshUyELQ",
        "colab": {
          "base_uri": "https://localhost:8080/"
        },
        "outputId": "dbf748a8-f639-480f-abba-5a4dbf935f19"
      },
      "execution_count": 26,
      "outputs": [
        {
          "output_type": "stream",
          "name": "stdout",
          "text": [
            "Predicted_Result\n",
            "Away Win    12922\n",
            "Home Win    12446\n",
            "Name: count, dtype: int64\n"
          ]
        }
      ]
    },
    {
      "cell_type": "code",
      "source": [
        "plt.figure(figsize=(8, 5))\n",
        "sns.histplot(df_test[\"Expected_Goals_home\"], color=\"blue\", label=\"Home Goals\", kde=True)\n",
        "sns.histplot(df_test[\"Expected_Goals_away\"], color=\"red\", label=\"Away Goals\", kde=True)\n",
        "plt.title(\"Distribution of Expected Goals\")\n",
        "plt.xlabel(\"Expected Goals\")\n",
        "plt.ylabel(\"Density\")\n",
        "plt.legend()\n",
        "plt.show()"
      ],
      "metadata": {
        "id": "7CAXC9RUyHxD",
        "colab": {
          "base_uri": "https://localhost:8080/",
          "height": 487
        },
        "outputId": "e707e90d-06c0-4646-e4b9-1a989226e801"
      },
      "execution_count": 27,
      "outputs": [
        {
          "output_type": "display_data",
          "data": {
            "text/plain": [
              "<Figure size 800x500 with 1 Axes>"
            ],
            "image/png": "[encoded data removed]"
          },
          "metadata": {}
        }
      ]
    },
    {
      "cell_type": "markdown",
      "source": [
        "# TESTING 3\n"
      ],
      "metadata": {
        "id": "hF9_KBPk_1CO"
      }
    },
    {
      "cell_type": "code",
      "source": [
        "# Merge home and away data for training\n",
        "train_data = pd.merge(train_home_team, train_away_team, on='ID', suffixes=('_home', '_away'))\n",
        "\n",
        "# Merge home and away data for testing\n",
        "test_data = pd.merge(test_home_team, test_away_team, on='ID', suffixes=('_home', '_away'))"
      ],
      "metadata": {
        "id": "acb28718_4X5"
      },
      "execution_count": 28,
      "outputs": []
    },
    {
      "cell_type": "code",
      "source": [
        "# Features for home team goals\n",
        "home_features = [\n",
        "    'GOALS_avg_home', 'SHOTS_ON_TARGET_avg_home', 'PASSES_avg_home',\n",
        "    'DANGEROUS_ATTACKS_avg_home', 'GOALS_std_home'\n",
        "]\n",
        "\n",
        "# Features for away team goals\n",
        "away_features = [\n",
        "    'GOALS_avg_away', 'SHOTS_ON_TARGET_avg_away', 'PASSES_avg_away',\n",
        "    'DANGEROUS_ATTACKS_avg_away', 'GOALS_std_away'\n",
        "]\n",
        "\n",
        "# Define training data for home and away teams\n",
        "X_train_home = train_data[home_features]\n",
        "X_train_away = train_data[away_features]\n",
        "\n",
        "# Define targets (goals scored by home and away teams)\n",
        "y_train_home = train_data['GOALS_sum_home']\n",
        "y_train_away = train_data['GOALS_sum_away']"
      ],
      "metadata": {
        "id": "SPLVfvdBAB5A"
      },
      "execution_count": 29,
      "outputs": []
    },
    {
      "cell_type": "code",
      "source": [
        "# Add intercept for Poisson regression\n",
        "X_train_home = sm.add_constant(X_train_home)\n",
        "X_train_away = sm.add_constant(X_train_away)\n",
        "\n",
        "# Train Poisson model for home team\n",
        "poisson_model_home = sm.Poisson(y_train_home, X_train_home).fit()\n",
        "\n",
        "# Train Poisson model for away team\n",
        "poisson_model_away = sm.Poisson(y_train_away, X_train_away).fit()\n",
        "\n",
        "# Print model summaries\n",
        "print(poisson_model_home.summary())\n",
        "print(poisson_model_away.summary())"
      ],
      "metadata": {
        "id": "W004KzEaASSm",
        "colab": {
          "base_uri": "https://localhost:8080/"
        },
        "outputId": "41143da0-441f-4cb2-f00d-2096a8337ad5"
      },
      "execution_count": 30,
      "outputs": [
        {
          "output_type": "stream",
          "name": "stdout",
          "text": [
            "Optimization terminated successfully.\n",
            "         Current function value: 1.691809\n",
            "         Iterations 6\n",
            "Optimization terminated successfully.\n",
            "         Current function value: 1.697478\n",
            "         Iterations 6\n",
            "                          Poisson Regression Results                          \n",
            "==============================================================================\n",
            "Dep. Variable:         GOALS_sum_home   No. Observations:                12303\n",
            "Model:                        Poisson   Df Residuals:                    12297\n",
            "Method:                           MLE   Df Model:                            5\n",
            "Date:                Thu, 06 Mar 2025   Pseudo R-squ.:                  0.3450\n",
            "Time:                        23:19:12   Log-Likelihood:                -20814.\n",
            "converged:                       True   LL-Null:                       -31779.\n",
            "Covariance Type:            nonrobust   LLR p-value:                     0.000\n",
            "==============================================================================================\n",
            "                                 coef    std err          z      P>|z|      [0.025      0.975]\n",
            "----------------------------------------------------------------------------------------------\n",
            "const                          0.3379      0.011     31.927      0.000       0.317       0.359\n",
            "GOALS_avg_home                 0.2187      0.002     91.811      0.000       0.214       0.223\n",
            "SHOTS_ON_TARGET_avg_home       0.0040      0.002      1.628      0.104      -0.001       0.009\n",
            "PASSES_avg_home               -0.0036      0.002     -2.198      0.028      -0.007      -0.000\n",
            "DANGEROUS_ATTACKS_avg_home    -0.0029      0.002     -1.459      0.145      -0.007       0.001\n",
            "GOALS_std_home                 0.0069      0.002      3.584      0.000       0.003       0.011\n",
            "==============================================================================================\n",
            "                          Poisson Regression Results                          \n",
            "==============================================================================\n",
            "Dep. Variable:         GOALS_sum_away   No. Observations:                12303\n",
            "Model:                        Poisson   Df Residuals:                    12297\n",
            "Method:                           MLE   Df Model:                            5\n",
            "Date:                Thu, 06 Mar 2025   Pseudo R-squ.:                  0.3431\n",
            "Time:                        23:19:12   Log-Likelihood:                -20884.\n",
            "converged:                       True   LL-Null:                       -31794.\n",
            "Covariance Type:            nonrobust   LLR p-value:                     0.000\n",
            "==============================================================================================\n",
            "                                 coef    std err          z      P>|z|      [0.025      0.975]\n",
            "----------------------------------------------------------------------------------------------\n",
            "const                          0.3498      0.011     33.014      0.000       0.329       0.371\n",
            "GOALS_avg_away                 0.2146      0.002     90.997      0.000       0.210       0.219\n",
            "SHOTS_ON_TARGET_avg_away       0.0032      0.002      1.339      0.181      -0.001       0.008\n",
            "PASSES_avg_away               -0.0018      0.002     -1.073      0.283      -0.005       0.001\n",
            "DANGEROUS_ATTACKS_avg_away    -0.0034      0.002     -1.703      0.089      -0.007       0.001\n",
            "GOALS_std_away                 0.0087      0.002      4.544      0.000       0.005       0.012\n",
            "==============================================================================================\n"
          ]
        }
      ]
    },
    {
      "cell_type": "code",
      "source": [
        "# Define test data for home and away teams\n",
        "X_test_home = test_data[home_features]\n",
        "X_test_away = test_data[away_features]\n",
        "\n",
        "# Add intercept for Poisson regression\n",
        "X_test_home = sm.add_constant(X_test_home)\n",
        "X_test_away = sm.add_constant(X_test_away)\n",
        "\n",
        "# Predict goals for home and away teams\n",
        "test_data['PREDICTED_GOALS_HOME'] = poisson_model_home.predict(X_test_home)\n",
        "test_data['PREDICTED_GOALS_AWAY'] = poisson_model_away.predict(X_test_away)\n"
      ],
      "metadata": {
        "id": "nucSUIU_AYde"
      },
      "execution_count": 31,
      "outputs": []
    },
    {
      "cell_type": "code",
      "source": [
        "# Determine match outcome based on predicted goals\n",
        "test_data['PREDICTED_OUTCOME'] = 'Draw'\n",
        "test_data.loc[test_data['PREDICTED_GOALS_HOME'] > test_data['PREDICTED_GOALS_AWAY'], 'PREDICTED_OUTCOME'] = 'Home Win'\n",
        "test_data.loc[test_data['PREDICTED_GOALS_HOME'] < test_data['PREDICTED_GOALS_AWAY'], 'PREDICTED_OUTCOME'] = 'Away Win'\n",
        "\n",
        "# Display results\n",
        "print(test_data[['ID', 'PREDICTED_GOALS_HOME', 'PREDICTED_GOALS_AWAY', 'PREDICTED_OUTCOME']])"
      ],
      "metadata": {
        "id": "7AalsqV9AbSW",
        "colab": {
          "base_uri": "https://localhost:8080/"
        },
        "outputId": "b3eda6e2-90e7-4867-81ac-9590acdcd74b"
      },
      "execution_count": 32,
      "outputs": [
        {
          "output_type": "stream",
          "name": "stdout",
          "text": [
            "          ID  PREDICTED_GOALS_HOME  PREDICTED_GOALS_AWAY PREDICTED_OUTCOME\n",
            "0      12303              1.355759              2.826835          Away Win\n",
            "1      12304              2.221885              6.592441          Away Win\n",
            "2      12305             13.334265              2.789839          Home Win\n",
            "3      12306              6.635421              6.509784          Home Win\n",
            "4      12307              2.691767              1.421433          Home Win\n",
            "...      ...                   ...                   ...               ...\n",
            "25363  37666              3.468327              6.620185          Away Win\n",
            "25364  37667              4.413604             10.025950          Away Win\n",
            "25365  37668              8.536310              4.279897          Home Win\n",
            "25366  37669              2.702990              3.381518          Away Win\n",
            "25367  37670              2.192328              2.152613          Home Win\n",
            "\n",
            "[25368 rows x 4 columns]\n"
          ]
        }
      ]
    },
    {
      "cell_type": "code",
      "source": [
        "# Predict outcomes based on average goals\n",
        "test_data['PREDICTED_OUTCOME'] = 'Draw'\n",
        "test_data.loc[test_data['GOALS_avg_home'] > test_data['GOALS_avg_away'], 'PREDICTED_OUTCOME'] = 'Home Win'\n",
        "test_data.loc[test_data['GOALS_avg_home'] < test_data['GOALS_avg_away'], 'PREDICTED_OUTCOME'] = 'Away Win'\n",
        "\n",
        "# Display results\n",
        "print(test_data[['ID', 'GOALS_avg_home', 'GOALS_avg_away', 'PREDICTED_OUTCOME']])"
      ],
      "metadata": {
        "id": "OKQMhZTnAkrx",
        "colab": {
          "base_uri": "https://localhost:8080/"
        },
        "outputId": "eb1e2a27-e45d-4833-a733-d87483f13812"
      },
      "execution_count": 33,
      "outputs": [
        {
          "output_type": "stream",
          "name": "stdout",
          "text": [
            "          ID  GOALS_avg_home  GOALS_avg_away PREDICTED_OUTCOME\n",
            "0      12303             0.0             3.0          Away Win\n",
            "1      12304             2.0             7.0          Away Win\n",
            "2      12305            10.0             3.0          Home Win\n",
            "3      12306             7.0             7.0              Draw\n",
            "4      12307             3.0             0.0          Home Win\n",
            "...      ...             ...             ...               ...\n",
            "25363  37666             4.0             7.0          Away Win\n",
            "25364  37667             5.0             9.0          Away Win\n",
            "25365  37668             8.0             5.0          Home Win\n",
            "25366  37669             3.0             4.0          Away Win\n",
            "25367  37670             2.0             2.0              Draw\n",
            "\n",
            "[25368 rows x 4 columns]\n"
          ]
        }
      ]
    },
    {
      "cell_type": "markdown",
      "source": [
        "# Graphing"
      ],
      "metadata": {
        "id": "BtmL403sWBGr"
      }
    }
  ]
}