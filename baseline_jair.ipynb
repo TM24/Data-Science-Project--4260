{
 "cells": [
  {
   "cell_type": "code",
   "execution_count": 57,
   "id": "cc8832c6-4bcc-465f-98f2-e2dad8e7bcce",
   "metadata": {},
   "outputs": [],
   "source": [
    "import pandas as pd\n",
    "import numpy as np\n",
    "from sklearn import tree\n",
    "from sklearn.tree import DecisionTreeClassifier\n",
    "import matplotlib.pyplot as plt\n",
    "from sklearn.metrics import confusion_matrix \n",
    "from sklearn.metrics import classification_report"
   ]
  },
  {
   "cell_type": "code",
   "execution_count": 37,
   "id": "485d26bc-17f4-47e1-8c2a-f320f89b530f",
   "metadata": {},
   "outputs": [],
   "source": [
    "# grabbing our cleaned train and test data (test data given to us so no split) \n",
    "away = pd.read_csv('train_merged_away.csv')\n",
    "home = pd.read_csv('train_merged_home.csv')\n",
    "result = pd.read_csv('../Y_train_1rknArQ.csv')\n",
    "test_home = pd.read_csv('test_merged_home.csv')\n",
    "test_away = pd.read_csv('test_merged_away.csv')\n",
    "test_result = pd.read_csv('../Y_test_random_sEE2QeA.csv')"
   ]
  },
  {
   "cell_type": "code",
   "execution_count": 72,
   "id": "4bbb6c81-3739-425d-940a-915594cee021",
   "metadata": {},
   "outputs": [],
   "source": [
    "# deciding the attributes used in the tree in deciding \n",
    "features = ['TEAM_SUCCESSFUL_PASSES_season_sum', 'TEAM_PASSES_season_sum']\n",
    "X_train = home[features]\n",
    "y_train = result['HOME_WINS']\n",
    "X_test = test_home[features]\n",
    "y_test = test_result['HOME_WINS']"
   ]
  },
  {
   "cell_type": "code",
   "execution_count": 73,
   "id": "98af4a4c-89cb-44d5-b41c-ffc1cf2ed921",
   "metadata": {},
   "outputs": [],
   "source": [
    "clf = tree.DecisionTreeClassifier()\n",
    "clf = clf.fit(X_train, y_train)"
   ]
  },
  {
   "cell_type": "code",
   "execution_count": 74,
   "id": "b592544b-91d0-4fc7-8d77-9e0593b6de63",
   "metadata": {},
   "outputs": [],
   "source": [
    "# this will plot the tree \n",
    "# width and height \n",
    "#plt.figure(figsize=(100, 10))\n",
    "#tree.plot_tree(clf)"
   ]
  },
  {
   "cell_type": "code",
   "execution_count": 75,
   "id": "8cc14e93-1f6a-44fd-b635-241e513e2ca7",
   "metadata": {},
   "outputs": [],
   "source": [
    "y_pred = clf.predict(X_test)"
   ]
  },
  {
   "cell_type": "code",
   "execution_count": 76,
   "id": "afe8d2dd-72d9-498d-8c04-492d09692c94",
   "metadata": {},
   "outputs": [
    {
     "name": "stdout",
     "output_type": "stream",
     "text": [
      "[[13523  6699]\n",
      " [ 3428  1718]]\n"
     ]
    }
   ],
   "source": [
    "# 2 Attributes \n",
    "print(confusion_matrix(y_pred, y_test))"
   ]
  },
  {
   "cell_type": "code",
   "execution_count": 77,
   "id": "8161827c-043d-4df6-aee1-196b0c4aaabd",
   "metadata": {},
   "outputs": [
    {
     "name": "stdout",
     "output_type": "stream",
     "text": [
      "              precision    recall  f1-score   support\n",
      "\n",
      "           0       0.80      0.67      0.73     20222\n",
      "           1       0.20      0.33      0.25      5146\n",
      "\n",
      "    accuracy                           0.60     25368\n",
      "   macro avg       0.50      0.50      0.49     25368\n",
      "weighted avg       0.68      0.60      0.63     25368\n",
      "\n"
     ]
    }
   ],
   "source": [
    "print(classification_report(y_pred, y_test))"
   ]
  },
  {
   "cell_type": "code",
   "execution_count": null,
   "id": "597e49ac-a6fb-45fb-a82a-0ab4a539e4db",
   "metadata": {},
   "outputs": [],
   "source": []
  }
 ],
 "metadata": {
  "kernelspec": {
   "display_name": "Python 3 (ipykernel)",
   "language": "python",
   "name": "python3"
  },
  "language_info": {
   "codemirror_mode": {
    "name": "ipython",
    "version": 3
   },
   "file_extension": ".py",
   "mimetype": "text/x-python",
   "name": "python",
   "nbconvert_exporter": "python",
   "pygments_lexer": "ipython3",
   "version": "3.13.2"
  }
 },
 "nbformat": 4,
 "nbformat_minor": 5
}
