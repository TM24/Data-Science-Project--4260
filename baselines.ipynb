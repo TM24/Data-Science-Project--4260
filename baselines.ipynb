{
 "cells": [
  {
   "cell_type": "code",
   "execution_count": null,
   "metadata": {},
   "outputs": [],
   "source": [
    "import pandas as pd\n",
    "import numpy as np\n",
    "from sklearn.model_selection import train_test_split\n",
    "from sklearn.metrics import accuracy_score, classification_report\n",
    "from sklearn.linear_model import LinearRegression\n",
    "from sklearn.linear_model import LogisticRegression\n",
    "from sklearn.metrics import accuracy_score\n",
    "from sklearn.metrics import mean_squared_error\n",
    "from sklearn.metrics import confusion_matrix\n",
    "from sklearn.model_selection import train_test_split\n",
    "from sklearn.preprocessing import StandardScaler\n",
    "import matplotlib.pyplot as plt\n",
    "import seaborn as sns\n",
    "from sklearn.metrics import log_loss\n",
    "from sklearn.ensemble import RandomForestClassifier\n"
   ]
  },
  {
   "cell_type": "code",
   "execution_count": null,
   "metadata": {},
   "outputs": [],
   "source": [
    "#Importing of the files. Cleaned prior to import.\n",
    "testAway = pd.read_csv('testDataV3_away.txt')\n",
    "testHome = pd.read_csv('testDataV3_home.txt')\n",
    "testY = pd.read_csv('testDataV3_y.txt') # Used to check prediction accuracy. Contains home_win, draw, away_win values\n",
    "\n",
    "trainAway = pd.read_csv('trainDataV3_away.txt') # Different IDS than test\n",
    "trainHome = pd.read_csv('trainDataV3_home.txt')\n",
    "trainY = pd.read_csv('trainDataV3_y.txt') # In training, use this to understand what difference in values leads to a win, draw, loss."
   ]
  },
  {
   "cell_type": "code",
   "execution_count": null,
   "metadata": {},
   "outputs": [],
   "source": [
    "selected_features = [\n",
    "    'TEAM_SHOTS_TOTAL_season_sum', 'TEAM_SHOTS_ON_TARGET_season_sum',\n",
    "    'TEAM_PASSES_season_sum', 'TEAM_SUCCESSFUL_PASSES_season_sum',\n",
    "    'TEAM_SAVES_season_sum', 'TEAM_CORNERS_season_sum',\n",
    "    'TEAM_FOULS_season_sum', 'TEAM_YELLOWCARDS_season_sum',\n",
    "    'TEAM_REDCARDS_season_sum', 'TEAM_ATTACKS_season_sum',\n",
    "    'TEAM_DANGEROUS_ATTACKS_season_sum', 'TEAM_GOALS_season_sum'\n",
    "]"
   ]
  },
  {
   "cell_type": "code",
   "execution_count": null,
   "metadata": {},
   "outputs": [],
   "source": [
    "X_train = trainHome[selected_features].values - trainAway[selected_features].values\n",
    "X_test = testHome[selected_features].values - testAway[selected_features].values\n",
    "\n",
    "# Set up Y labels (win/loss/draw columns)\n",
    "Y_train = trainY[['HOME_WINS', 'DRAW', 'AWAY_WINS']].values\n",
    "\n",
    "# Train model\n",
    "model = LinearRegression()\n",
    "model.fit(X_train, Y_train)\n",
    "\n",
    "# Predict win probabilities\n",
    "Y_pred = model.predict(X_test)\n",
    "\n",
    "# Normalize probabilities (to sum to 1)\n",
    "Y_pred = np.clip(Y_pred, 0, None)  # Ensure non-negatives\n",
    "Y_pred /= Y_pred.sum(axis=1, keepdims=True)\n",
    "\n",
    "# dataframe\n",
    "Y_pred_df = pd.DataFrame(Y_pred, columns=['Home Win Prob', 'Draw Prob', 'Away Win Prob'])\n",
    "\n"
   ]
  },
  {
   "cell_type": "code",
   "execution_count": null,
   "metadata": {},
   "outputs": [],
   "source": [
    "plt.figure(figsize=(10, 6))\n",
    "sns.histplot(Y_pred_df, bins=20, kde=True, alpha=0.6)\n",
    "plt.title(\"Distribution of Predicted Win Probabilities\")\n",
    "plt.xlabel(\"Predicted Probability\")\n",
    "plt.ylabel(\"Frequency\")\n",
    "plt.legend(['Home Win', 'Draw', 'Away Win'])\n",
    "plt.show()\n"
   ]
  },
  {
   "cell_type": "code",
   "execution_count": null,
   "metadata": {},
   "outputs": [],
   "source": [
    "plt.figure(figsize=(8, 6))\n",
    "plt.scatter(X_test[:, -1], Y_pred_df['Home Win Prob'], alpha=0.5)\n",
    "plt.xlabel(\"Goal Difference (Home - Away)\")\n",
    "plt.ylabel(\"Predicted Home Win Probability\")\n",
    "plt.title(\"Goal Difference vs. Home Win Probability\")\n",
    "plt.axvline(0, color='red', linestyle='--', label=\"No Goal Difference\")\n",
    "plt.legend()\n",
    "plt.show()\n"
   ]
  },
  {
   "cell_type": "code",
   "execution_count": null,
   "metadata": {},
   "outputs": [],
   "source": [
    "train_features = trainHome[selected_features].copy()\n",
    "train_features['HOME_WINS'] = trainY['HOME_WINS']\n",
    "train_features['DRAW'] = trainY['DRAW']\n",
    "train_features['AWAY_WINS'] = trainY['AWAY_WINS']\n",
    "\n",
    "# Step 2: Create subsets for each outcome\n",
    "home_wins_data = train_features[train_features['HOME_WINS'] == 1]\n",
    "draw_data = train_features[train_features['DRAW'] == 1]\n",
    "away_wins_data = train_features[train_features['AWAY_WINS'] == 1]\n",
    "\n",
    "# Shorten feature names for the plot titles\n",
    "short_titles = {\n",
    "    'TEAM_SHOTS_TOTAL_season_sum': 'Shots Total',\n",
    "    'TEAM_SHOTS_ON_TARGET_season_sum': 'Shots On Target',\n",
    "    'TEAM_PASSES_season_sum': 'Passes',\n",
    "    'TEAM_SUCCESSFUL_PASSES_season_sum': 'Successful Passes',\n",
    "    'TEAM_SAVES_season_sum': 'Saves',\n",
    "    'TEAM_CORNERS_season_sum': 'Corners',\n",
    "    'TEAM_FOULS_season_sum': 'Fouls',\n",
    "    'TEAM_YELLOWCARDS_season_sum': 'Yellow Cards',\n",
    "    'TEAM_REDCARDS_season_sum': 'Red Cards',\n",
    "    'TEAM_ATTACKS_season_sum': 'Attacks',\n",
    "    'TEAM_DANGEROUS_ATTACKS_season_sum': 'Dangerous Attacks',\n",
    "    'TEAM_GOALS_season_sum': 'Goals'\n",
    "}\n",
    "\n",
    "# Step 3: Plot histograms for each selected feature by match outcome\n",
    "plt.figure(figsize=(14, 12))\n",
    "\n",
    "for i, feature in enumerate(selected_features):\n",
    "    plt.subplot(3, 4, i+1)  # Create subplots in a grid\n",
    "    sns.histplot(home_wins_data[feature], kde=True, color='green', label='Home Wins', bins=30)\n",
    "    sns.histplot(draw_data[feature], kde=True, color='gray', label='Draw', bins=30)\n",
    "    sns.histplot(away_wins_data[feature], kde=True, color='red', label='Away Wins', bins=30)\n",
    "    plt.title(short_titles.get(feature, feature))  # Use the shorter title\n",
    "    plt.xlabel(short_titles.get(feature, feature))\n",
    "    plt.ylabel('Frequency')\n",
    "    plt.legend()\n",
    "\n",
    "plt.tight_layout()\n",
    "plt.show()\n"
   ]
  },
  {
   "cell_type": "code",
   "execution_count": null,
   "metadata": {},
   "outputs": [],
   "source": [
    "plt.figure(figsize=(14, 12))\n",
    "\n",
    "for i, feature in enumerate(selected_features):\n",
    "    plt.subplot(3, 4, i+1)\n",
    "    sns.boxplot(x='HOME_WINS', y=feature, data=train_features, hue='HOME_WINS', palette='Greens', legend=False)\n",
    "    sns.boxplot(x='DRAW', y=feature, data=train_features, hue='DRAW', palette='Greys', legend=False)\n",
    "    sns.boxplot(x='AWAY_WINS', y=feature, data=train_features, hue='AWAY_WINS', palette='Reds', legend=False)\n",
    "    plt.title(short_titles.get(feature, feature))\n",
    "    plt.xlabel('Outcome')\n",
    "    plt.ylabel('Value')\n",
    "\n",
    "plt.tight_layout()\n",
    "plt.show()\n"
   ]
  },
  {
   "cell_type": "code",
   "execution_count": null,
   "metadata": {},
   "outputs": [],
   "source": [
    "correlation_matrix = train_features[selected_features].corr()\n",
    "plt.figure(figsize=(10, 8))\n",
    "sns.heatmap(correlation_matrix, annot=True, cmap='coolwarm', fmt='.2f')\n",
    "plt.title('Correlation Heatmap')\n",
    "plt.show()\n"
   ]
  },
  {
   "cell_type": "code",
   "execution_count": null,
   "metadata": {},
   "outputs": [],
   "source": [
    "from sklearn.ensemble import RandomForestClassifier\n",
    "\n",
    "# Train a random forest model to get feature importance\n",
    "model = RandomForestClassifier()\n",
    "model.fit(train_features[selected_features], trainY['HOME_WINS']) \n",
    "\n",
    "feature_importance = model.feature_importances_\n",
    "plt.figure(figsize=(10, 6))\n",
    "plt.barh(selected_features, feature_importance, color='skyblue')\n",
    "plt.title('Feature Importance (Random Forest)')\n",
    "plt.xlabel('Importance')\n",
    "plt.ylabel('Feature')\n",
    "plt.show()\n"
   ]
  },
  {
   "cell_type": "code",
   "execution_count": null,
   "metadata": {},
   "outputs": [],
   "source": [
    "plt.figure(figsize=(8, 6))\n",
    "class_counts = trainY[['HOME_WINS', 'DRAW', 'AWAY_WINS']].sum()\n",
    "sns.barplot(x=class_counts.index, y=class_counts.values, palette='pastel')\n",
    "plt.title('Class Distribution (Home Wins, Draws, Away Wins)')\n",
    "plt.xlabel('Outcome')\n",
    "plt.ylabel('Count')\n",
    "plt.show()\n"
   ]
  },
  {
   "cell_type": "code",
   "execution_count": null,
   "metadata": {},
   "outputs": [],
   "source": [
    "plt.figure(figsize=(14, 12))\n",
    "\n",
    "for i, feature in enumerate(selected_features):\n",
    "    plt.subplot(3, 4, i+1)\n",
    "    sns.kdeplot(home_wins_data[feature], color='green', label='Home Wins', fill=True)\n",
    "    sns.kdeplot(draw_data[feature], color='gray', label='Draw', fill=True)\n",
    "    sns.kdeplot(away_wins_data[feature], color='red', label='Away Wins', fill=True)\n",
    "    plt.title(short_titles.get(feature, feature))\n",
    "    plt.xlabel(short_titles.get(feature, feature))\n",
    "    plt.ylabel('Density')\n",
    "    plt.legend()\n",
    "\n",
    "plt.tight_layout()\n",
    "plt.show()\n"
   ]
  },
  {
   "cell_type": "code",
   "execution_count": null,
   "metadata": {},
   "outputs": [],
   "source": [
    "mse = mean_squared_error(testY[['HOME_WINS', 'DRAW', 'AWAY_WINS']].values, Y_pred)\n",
    "print(f\"Test Set MSE: {mse:.4f}\")\n"
   ]
  }
 ],
 "metadata": {
  "kernelspec": {
   "display_name": "Python 3",
   "language": "python",
   "name": "python3"
  },
  "language_info": {
   "codemirror_mode": {
    "name": "ipython",
    "version": 3
   },
   "file_extension": ".py",
   "mimetype": "text/x-python",
   "name": "python",
   "nbconvert_exporter": "python",
   "pygments_lexer": "ipython3",
   "version": "3.11.5"
  }
 },
 "nbformat": 4,
 "nbformat_minor": 2
}
