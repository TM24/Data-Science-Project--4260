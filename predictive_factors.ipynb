{
 "cells": [
  {
   "cell_type": "code",
   "execution_count": null,
   "metadata": {},
   "outputs": [],
   "source": [
    "#You WILL need the following in bash:\n",
    "#    pip install numpy pandas matplotlib seaborn scikit-learn\n",
    "\n",
    "# MAKE SURE EVERYTHING IS UP TO DATE IF PREDOWNLOADED!!!\n"
   ]
  },
  {
   "cell_type": "code",
   "execution_count": 17,
   "metadata": {},
   "outputs": [],
   "source": [
    "# General things for functions\n",
    "import numpy as np # Numerical commands\n",
    "import pandas as pd # Data manipulation\n",
    "\n",
    "#Visualization tools for plotting\n",
    "import matplotlib.pyplot as plt \n",
    "import seaborn as sns\n",
    "\n",
    "\n",
    "#Machine learning parts itself\n",
    "import sklearn\n",
    "from sklearn.model_selection import train_test_split\n",
    "from sklearn.preprocessing import StandardScaler\n",
    "from sklearn.linear_model import LogisticRegression \n",
    "from sklearn.ensemble import RandomForestClassifier\n",
    "from sklearn.metrics import accuracy_score"
   ]
  },
  {
   "cell_type": "code",
   "execution_count": null,
   "metadata": {},
   "outputs": [],
   "source": [
    "#Importing of the files. This will take a WHILE\n",
    "testAway = pd.read_csv('testDataV3_away.txt')\n",
    "testHome = pd.read_csv('testDataV3_home.txt')\n",
    "testY = pd.read_csv('testDataV3_y.txt')\n",
    "\n",
    "trainAway = pd.read_csv('trainDataV3_away.txt')\n",
    "trainHome = pd.read_csv('trainDataV3_home.txt')\n",
    "trainY = pd.read_csv('trainDataV3_y.txt')"
   ]
  },
  {
   "cell_type": "code",
   "execution_count": null,
   "metadata": {},
   "outputs": [
    {
     "name": "stdout",
     "output_type": "stream",
     "text": [
      "Train Home Data with Stats:\n",
      "   TEAM_GAME_WON_season_sum  TEAM_GAME_DRAW_season_sum  \\\n",
      "0                       1.0                        6.0   \n",
      "1                       8.0                        4.0   \n",
      "2                       2.0                        4.0   \n",
      "3                       7.0                        0.0   \n",
      "4                       1.0                        6.0   \n",
      "\n",
      "   TEAM_GAME_LOST_season_sum  TOTAL_GAMES_PLAYED  WIN_PERCENTAGE  \n",
      "0                       10.0                17.0        5.882353  \n",
      "1                        1.0                13.0       61.538462  \n",
      "2                        8.0                14.0       14.285714  \n",
      "3                        5.0                12.0       58.333333  \n",
      "4                       10.0                17.0        5.882353  \n",
      "\n",
      "Train Away Data with Stats:\n",
      "   TEAM_GAME_WON_season_sum  TEAM_GAME_DRAW_season_sum  \\\n",
      "0                       5.0                        8.0   \n",
      "1                       1.0                        4.0   \n",
      "2                       3.0                        8.0   \n",
      "3                       0.0                       10.0   \n",
      "4                       1.0                        6.0   \n",
      "\n",
      "   TEAM_GAME_LOST_season_sum  TOTAL_GAMES_PLAYED  WIN_PERCENTAGE  \n",
      "0                        0.0                13.0       38.461538  \n",
      "1                        8.0                13.0        7.692308  \n",
      "2                        5.0                16.0       18.750000  \n",
      "3                        5.0                15.0        0.000000  \n",
      "4                       10.0                17.0        5.882353  \n"
     ]
    }
   ],
   "source": [
    "def calculate_game_stats(df):\n",
    "    # This will calculate the total number of games played\n",
    "    df['TOTAL_GAMES_PLAYED'] = df['TEAM_GAME_WON_season_sum'] + df['TEAM_GAME_DRAW_season_sum'] + df['TEAM_GAME_LOST_season_sum']\n",
    "    \n",
    "    # Calculate Win perctengae: Wins / (total of all games)\n",
    "    # This is of course to determine \"good\" compared to \"bad\" teams and see what factors are different\n",
    "    df['WIN_PERCENTAGE'] = (df['TEAM_GAME_WON_season_sum'] / df['TOTAL_GAMES_PLAYED']) *100\n",
    "    \n",
    "    return df\n",
    "\n",
    "\n",
    "trainHome = calculate_game_stats(trainHome)\n",
    "trainAway = calculate_game_stats(trainAway)\n",
    "testHome = calculate_game_stats(testHome)\n",
    "testAway = calculate_game_stats(testAway)\n",
    "\n",
    "\n",
    "print(\"Train Home Data with Stats:\")\n",
    "print(trainHome[['TEAM_GAME_WON_season_sum', 'TEAM_GAME_DRAW_season_sum', 'TEAM_GAME_LOST_season_sum', 'TOTAL_GAMES_PLAYED', 'WIN_PERCENTAGE']].head())\n",
    "\n",
    "print(\"\\nTrain Away Data with Stats:\")\n",
    "print(trainAway[['TEAM_GAME_WON_season_sum', 'TEAM_GAME_DRAW_season_sum', 'TEAM_GAME_LOST_season_sum', 'TOTAL_GAMES_PLAYED', 'WIN_PERCENTAGE']].head())\n",
    "\n",
    "\n",
    "# Below was a simple test to ensure the test data win loss columns were created\n",
    "# This is not to be used until model evaluation with the training data\n",
    "\n",
    "# print(\"\\nTest Home Data with Stats:\")\n",
    "# print(testHome[['TEAM_GAME_WON_season_sum', 'TEAM_GAME_DRAW_season_sum', 'TEAM_GAME_LOST_season_sum', 'TOTAL_GAMES_PLAYED', 'WIN_LOSS_RATIO']].head())\n",
    "\n",
    "# print(\"\\nTest Away Data with Stats:\")\n",
    "# print(testAway[['TEAM_GAME_WON_season_sum', 'TEAM_GAME_DRAW_season_sum', 'TEAM_GAME_LOST_season_sum', 'TOTAL_GAMES_PLAYED', 'WIN_LOSS_RATIO']].head())"
   ]
  }
 ],
 "metadata": {
  "kernelspec": {
   "display_name": "Python 3",
   "language": "python",
   "name": "python3"
  },
  "language_info": {
   "codemirror_mode": {
    "name": "ipython",
    "version": 3
   },
   "file_extension": ".py",
   "mimetype": "text/x-python",
   "name": "python",
   "nbconvert_exporter": "python",
   "pygments_lexer": "ipython3",
   "version": "3.11.5"
  }
 },
 "nbformat": 4,
 "nbformat_minor": 2
}
